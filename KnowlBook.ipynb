{
  "nbformat": 4,
  "nbformat_minor": 0,
  "metadata": {
    "colab": {
      "provenance": []
    },
    "kernelspec": {
      "name": "python3",
      "display_name": "Python 3"
    },
    "language_info": {
      "name": "python"
    }
  },
  "cells": [
    {
      "cell_type": "markdown",
      "source": [
        "# **Data Analytics with Pandas**:\n",
        ">![py pandas images.png](data:image/png;base64,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)\n",
        "\n",
        "\n",
        "\n",
        "\n",
        "\n"
      ],
      "metadata": {
        "id": "sv2wIfEi4w2c"
      }
    },
    {
      "cell_type": "markdown",
      "source": [
        "# **Python Overview**\n"
      ],
      "metadata": {
        "id": "1D8rHHoquwG7"
      }
    },
    {
      "cell_type": "markdown",
      "source": [
        "You might think that Python is only for developers and people with computer science degrees. However, Python is great for beginners, even those with little coding experience because it's free, open source, and runs on any platform. The Python packages documentation is great and after an [Guvi Python](https://www.guvi.in/courses-video?course=pythonEng#) you have a good foundation to build on.\n",
        "\n",
        "Python is a general purpose and high-level programming language that is used for more than working with data. For example, it's good for developing desktop GUI applications, websites, and web applications. However, this notebook focuses on the data and only goes through getting started with data.[Python Referance](https://www.python.org)\n",
        "\n"
      ],
      "metadata": {
        "id": "qV0MZYMgvmZt"
      }
    },
    {
      "cell_type": "code",
      "source": [],
      "metadata": {
        "id": "d_khQeLMujSh"
      },
      "execution_count": null,
      "outputs": []
    },
    {
      "cell_type": "markdown",
      "source": [
        "# **Introduction to pandas**\n",
        "![pandas im.png](data:image/png;base64,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)\n",
        "\n",
        "\n",
        "\n",
        "\n",
        "\n",
        "\n",
        "\n"
      ],
      "metadata": {
        "id": "edZ4W-qyyFZe"
      }
    },
    {
      "cell_type": "markdown",
      "source": [
        "Pandas is an open source Python Library that provides high-performance data manipulation and analysis. With the combination of Python and pandas, you can accomplish five typical steps in the processing and analysis of data, regardless of the origin of data: load, prepare, manipulate, model, and analyze.\n",
        "\n",
        "There are many options when working with the data using pandas. The following list shows some of the things that can be done using pandas.\n",
        "\n",
        "\n",
        "\n",
        "\n",
        "*   Cleaning data by removing or replacing missing values\n",
        "*   Converting data formats\n",
        "*   Sorting rows\n",
        "*   Deleting or adding rows and columns\n",
        "*   Merging or joining DataFrames\n",
        "*   Summarizing data by pivoting or reshaping\n",
        "*   Creating visualizations"
      ],
      "metadata": {
        "id": "Ti16IeAtByng"
      }
    },
    {
      "cell_type": "markdown",
      "source": [
        "It is built on top of the NumPy library, and provides a number of data structures and operations for manipulating numerical data and time series."
      ],
      "metadata": {
        "id": "E8XsvWVN6h69"
      }
    },
    {
      "cell_type": "markdown",
      "source": [
        "# **Panda Series**  "
      ],
      "metadata": {
        "id": "0yNqqzfo7kbw"
      }
    },
    {
      "cell_type": "markdown",
      "source": [
        "## Querying"
      ],
      "metadata": {
        "id": "wbsGo3km7xWe"
      }
    },
    {
      "cell_type": "markdown",
      "source": [
        "Querying is the process of selecting data from a Pandas Series based on a condition. For example, you could query a Series to find all the values that are greater than 10.\n",
        "\n",
        "Here is the simple Example Querying"
      ],
      "metadata": {
        "id": "rDGbAUqhBVaA"
      }
    },
    {
      "cell_type": "code",
      "source": [
        "# Before we start we need to import the Pandas Library install using pip or conda\n",
        "import pandas as pd\n",
        "\n",
        "# Create a Series\n",
        "s = pd.Series([1, 1.4, 1.6, 2, 3, 4, 5, 6,7])\n",
        "\n",
        "# Query the Series to find all the values that are greater than 1.5\n",
        "greater_than = s[s > 1.5]\n",
        "\n",
        "# Print the results\n",
        "print(greater_than)\n",
        "\n",
        "# This code will create a Series with the values 1.6,2,3,4,5,6,7"
      ],
      "metadata": {
        "colab": {
          "base_uri": "https://localhost:8080/"
        },
        "id": "Z2vYl4a672V-",
        "outputId": "f74dd8e2-3d7a-4fbf-f951-f53c803fc90e"
      },
      "execution_count": null,
      "outputs": [
        {
          "output_type": "stream",
          "name": "stdout",
          "text": [
            "2    1.6\n",
            "3    2.0\n",
            "4    3.0\n",
            "5    4.0\n",
            "6    5.0\n",
            "7    6.0\n",
            "8    7.0\n",
            "dtype: float64\n"
          ]
        }
      ]
    },
    {
      "cell_type": "markdown",
      "source": [
        "## Indexing"
      ],
      "metadata": {
        "id": "l41LEkKUA7uY"
      }
    },
    {
      "cell_type": "markdown",
      "source": [
        "Indexing is the process of accessing a specific element or range of elements from a Pandas Series. For example, you could index a Series to get the value at the index 0. zero is the start index we can give the start, end and step\n",
        "S[start:end:step]"
      ],
      "metadata": {
        "id": "NG3FUll3BIoh"
      }
    },
    {
      "cell_type": "code",
      "source": [
        "import pandas as pd\n",
        "\n",
        "# Create a Series\n",
        "s = pd.Series([1, 2, 3, 4, 5])\n",
        "\n",
        "# Index the Series to get the value at the index 0\n",
        "first_value = s[0]   # also use s[0:1]\n",
        "\n",
        "# Print the results\n",
        "print(first_value)"
      ],
      "metadata": {
        "colab": {
          "base_uri": "https://localhost:8080/"
        },
        "id": "yuxwUQPWBDUp",
        "outputId": "0964b1ef-cb4e-43f0-f90a-148cc458d358"
      },
      "execution_count": null,
      "outputs": [
        {
          "output_type": "stream",
          "name": "stdout",
          "text": [
            "1\n"
          ]
        }
      ]
    },
    {
      "cell_type": "markdown",
      "source": [
        "Here are some of the most common ways to query and index Pandas Series:\n",
        "\n",
        "*   Using the loc attribute: The loc attribute allows you to select data from a Series by label. For example, to select the value at the index 0, you would use s.loc[0].\n",
        "*   Using the iloc attribute: The iloc attribute allows you to select data from a Series by integer position. For example, to select the value at the position 0, you would use s.iloc[0].\n",
        "\n",
        "\n",
        "\n",
        "\n"
      ],
      "metadata": {
        "id": "fwKDTVSGKK5d"
      }
    },
    {
      "cell_type": "code",
      "source": [
        "import pandas as pd\n",
        "\n",
        "# Create a Series\n",
        "s = pd.Series([1, 2, 3, 4, 5], index=[\"a\", \"b\", \"c\", \"d\", \"e\"])\n",
        "\n",
        "# Select the value at the index \"a\" using loc\n",
        "a_value = s.loc[\"a\"]\n",
        "\n",
        "# Select the value at the position 0 using iloc\n",
        "first_value = s.iloc[1]\n",
        "\n",
        "# Print the results\n",
        "print(a_value, first_value)\n"
      ],
      "metadata": {
        "colab": {
          "base_uri": "https://localhost:8080/"
        },
        "id": "u3my7EtAJ5Ko",
        "outputId": "291ce557-36bc-4e73-a995-ae7403e3c830"
      },
      "execution_count": null,
      "outputs": [
        {
          "output_type": "stream",
          "name": "stdout",
          "text": [
            "1 2\n"
          ]
        }
      ]
    },
    {
      "cell_type": "code",
      "source": [
        "# Select the values at the labels \"b\" and \"c\" using loc\n",
        "b_c_values = s.loc[[\"b\", \"c\"]]\n",
        "\n",
        "# Select the values at the positions 1 and 2 using iloc\n",
        "second_third_values = s.iloc[1:3]\n",
        "\n",
        "# Print the results\n",
        "print(b_c_values, second_third_values)"
      ],
      "metadata": {
        "colab": {
          "base_uri": "https://localhost:8080/"
        },
        "id": "LhX3RBYvBhvF",
        "outputId": "f1f0fee3-bb30-4937-8db5-b47a4cef1d4c"
      },
      "execution_count": null,
      "outputs": [
        {
          "output_type": "stream",
          "name": "stdout",
          "text": [
            "b    2\n",
            "c    3\n",
            "dtype: int64 b    2\n",
            "c    3\n",
            "dtype: int64\n"
          ]
        }
      ]
    },
    {
      "cell_type": "code",
      "source": [],
      "metadata": {
        "id": "XMi7aHQkLQP-"
      },
      "execution_count": null,
      "outputs": []
    },
    {
      "cell_type": "markdown",
      "source": [
        "# **Pandas DataFrame**"
      ],
      "metadata": {
        "id": "oFBvvH4sMTnd"
      }
    },
    {
      "cell_type": "markdown",
      "source": [
        "A pandas DataFrame is a two-dimensional, tabular data structure in Python, provided by the pandas library. It organizes data in rows and columns. Each column in a DataFrame represents a different variable or feature, while each row corresponds to an individual observation or record."
      ],
      "metadata": {
        "id": "vRk8CNxFM1Xh"
      }
    },
    {
      "cell_type": "code",
      "source": [
        "# Create a DataFrame\n",
        "df = pd.DataFrame({\n",
        "    \"Name\": [\"John Doe\", \"Jane Doe\", \"John Smith\", \"Jane Smith\"],\n",
        "    \"Age\": [30, 25, 40, 35],\n",
        "    \"City\": [\"New York\", \"Los Angeles\", \"Chicago\", \"San Francisco\"]\n",
        "})\n",
        "df"
      ],
      "metadata": {
        "colab": {
          "base_uri": "https://localhost:8080/",
          "height": 175
        },
        "id": "tnkxuqfANkYD",
        "outputId": "4d15c89c-1767-4524-c771-4c42c76ce948"
      },
      "execution_count": null,
      "outputs": [
        {
          "output_type": "execute_result",
          "data": {
            "text/plain": [
              "         Name  Age           City\n",
              "0    John Doe   30       New York\n",
              "1    Jane Doe   25    Los Angeles\n",
              "2  John Smith   40        Chicago\n",
              "3  Jane Smith   35  San Francisco"
            ],
            "text/html": [
              "\n",
              "\n",
              "  <div id=\"df-593381e5-4180-4d38-a46f-201cee24fd46\">\n",
              "    <div class=\"colab-df-container\">\n",
              "      <div>\n",
              "<style scoped>\n",
              "    .dataframe tbody tr th:only-of-type {\n",
              "        vertical-align: middle;\n",
              "    }\n",
              "\n",
              "    .dataframe tbody tr th {\n",
              "        vertical-align: top;\n",
              "    }\n",
              "\n",
              "    .dataframe thead th {\n",
              "        text-align: right;\n",
              "    }\n",
              "</style>\n",
              "<table border=\"1\" class=\"dataframe\">\n",
              "  <thead>\n",
              "    <tr style=\"text-align: right;\">\n",
              "      <th></th>\n",
              "      <th>Name</th>\n",
              "      <th>Age</th>\n",
              "      <th>City</th>\n",
              "    </tr>\n",
              "  </thead>\n",
              "  <tbody>\n",
              "    <tr>\n",
              "      <th>0</th>\n",
              "      <td>John Doe</td>\n",
              "      <td>30</td>\n",
              "      <td>New York</td>\n",
              "    </tr>\n",
              "    <tr>\n",
              "      <th>1</th>\n",
              "      <td>Jane Doe</td>\n",
              "      <td>25</td>\n",
              "      <td>Los Angeles</td>\n",
              "    </tr>\n",
              "    <tr>\n",
              "      <th>2</th>\n",
              "      <td>John Smith</td>\n",
              "      <td>40</td>\n",
              "      <td>Chicago</td>\n",
              "    </tr>\n",
              "    <tr>\n",
              "      <th>3</th>\n",
              "      <td>Jane Smith</td>\n",
              "      <td>35</td>\n",
              "      <td>San Francisco</td>\n",
              "    </tr>\n",
              "  </tbody>\n",
              "</table>\n",
              "</div>\n",
              "      <button class=\"colab-df-convert\" onclick=\"convertToInteractive('df-593381e5-4180-4d38-a46f-201cee24fd46')\"\n",
              "              title=\"Convert this dataframe to an interactive table.\"\n",
              "              style=\"display:none;\">\n",
              "\n",
              "  <svg xmlns=\"http://www.w3.org/2000/svg\" height=\"24px\"viewBox=\"0 0 24 24\"\n",
              "       width=\"24px\">\n",
              "    <path d=\"M0 0h24v24H0V0z\" fill=\"none\"/>\n",
              "    <path d=\"M18.56 5.44l.94 2.06.94-2.06 2.06-.94-2.06-.94-.94-2.06-.94 2.06-2.06.94zm-11 1L8.5 8.5l.94-2.06 2.06-.94-2.06-.94L8.5 2.5l-.94 2.06-2.06.94zm10 10l.94 2.06.94-2.06 2.06-.94-2.06-.94-.94-2.06-.94 2.06-2.06.94z\"/><path d=\"M17.41 7.96l-1.37-1.37c-.4-.4-.92-.59-1.43-.59-.52 0-1.04.2-1.43.59L10.3 9.45l-7.72 7.72c-.78.78-.78 2.05 0 2.83L4 21.41c.39.39.9.59 1.41.59.51 0 1.02-.2 1.41-.59l7.78-7.78 2.81-2.81c.8-.78.8-2.07 0-2.86zM5.41 20L4 18.59l7.72-7.72 1.47 1.35L5.41 20z\"/>\n",
              "  </svg>\n",
              "      </button>\n",
              "\n",
              "\n",
              "\n",
              "    <div id=\"df-b37e6372-12cf-463a-a24b-0be27f9b19ac\">\n",
              "      <button class=\"colab-df-quickchart\" onclick=\"quickchart('df-b37e6372-12cf-463a-a24b-0be27f9b19ac')\"\n",
              "              title=\"Suggest charts.\"\n",
              "              style=\"display:none;\">\n",
              "\n",
              "<svg xmlns=\"http://www.w3.org/2000/svg\" height=\"24px\"viewBox=\"0 0 24 24\"\n",
              "     width=\"24px\">\n",
              "    <g>\n",
              "        <path d=\"M19 3H5c-1.1 0-2 .9-2 2v14c0 1.1.9 2 2 2h14c1.1 0 2-.9 2-2V5c0-1.1-.9-2-2-2zM9 17H7v-7h2v7zm4 0h-2V7h2v10zm4 0h-2v-4h2v4z\"/>\n",
              "    </g>\n",
              "</svg>\n",
              "      </button>\n",
              "    </div>\n",
              "\n",
              "<style>\n",
              "  .colab-df-quickchart {\n",
              "    background-color: #E8F0FE;\n",
              "    border: none;\n",
              "    border-radius: 50%;\n",
              "    cursor: pointer;\n",
              "    display: none;\n",
              "    fill: #1967D2;\n",
              "    height: 32px;\n",
              "    padding: 0 0 0 0;\n",
              "    width: 32px;\n",
              "  }\n",
              "\n",
              "  .colab-df-quickchart:hover {\n",
              "    background-color: #E2EBFA;\n",
              "    box-shadow: 0px 1px 2px rgba(60, 64, 67, 0.3), 0px 1px 3px 1px rgba(60, 64, 67, 0.15);\n",
              "    fill: #174EA6;\n",
              "  }\n",
              "\n",
              "  [theme=dark] .colab-df-quickchart {\n",
              "    background-color: #3B4455;\n",
              "    fill: #D2E3FC;\n",
              "  }\n",
              "\n",
              "  [theme=dark] .colab-df-quickchart:hover {\n",
              "    background-color: #434B5C;\n",
              "    box-shadow: 0px 1px 3px 1px rgba(0, 0, 0, 0.15);\n",
              "    filter: drop-shadow(0px 1px 2px rgba(0, 0, 0, 0.3));\n",
              "    fill: #FFFFFF;\n",
              "  }\n",
              "</style>\n",
              "\n",
              "    <script>\n",
              "      async function quickchart(key) {\n",
              "        const containerElement = document.querySelector('#' + key);\n",
              "        const charts = await google.colab.kernel.invokeFunction(\n",
              "            'suggestCharts', [key], {});\n",
              "      }\n",
              "    </script>\n",
              "\n",
              "      <script>\n",
              "\n",
              "function displayQuickchartButton(domScope) {\n",
              "  let quickchartButtonEl =\n",
              "    domScope.querySelector('#df-b37e6372-12cf-463a-a24b-0be27f9b19ac button.colab-df-quickchart');\n",
              "  quickchartButtonEl.style.display =\n",
              "    google.colab.kernel.accessAllowed ? 'block' : 'none';\n",
              "}\n",
              "\n",
              "        displayQuickchartButton(document);\n",
              "      </script>\n",
              "      <style>\n",
              "    .colab-df-container {\n",
              "      display:flex;\n",
              "      flex-wrap:wrap;\n",
              "      gap: 12px;\n",
              "    }\n",
              "\n",
              "    .colab-df-convert {\n",
              "      background-color: #E8F0FE;\n",
              "      border: none;\n",
              "      border-radius: 50%;\n",
              "      cursor: pointer;\n",
              "      display: none;\n",
              "      fill: #1967D2;\n",
              "      height: 32px;\n",
              "      padding: 0 0 0 0;\n",
              "      width: 32px;\n",
              "    }\n",
              "\n",
              "    .colab-df-convert:hover {\n",
              "      background-color: #E2EBFA;\n",
              "      box-shadow: 0px 1px 2px rgba(60, 64, 67, 0.3), 0px 1px 3px 1px rgba(60, 64, 67, 0.15);\n",
              "      fill: #174EA6;\n",
              "    }\n",
              "\n",
              "    [theme=dark] .colab-df-convert {\n",
              "      background-color: #3B4455;\n",
              "      fill: #D2E3FC;\n",
              "    }\n",
              "\n",
              "    [theme=dark] .colab-df-convert:hover {\n",
              "      background-color: #434B5C;\n",
              "      box-shadow: 0px 1px 3px 1px rgba(0, 0, 0, 0.15);\n",
              "      filter: drop-shadow(0px 1px 2px rgba(0, 0, 0, 0.3));\n",
              "      fill: #FFFFFF;\n",
              "    }\n",
              "  </style>\n",
              "\n",
              "      <script>\n",
              "        const buttonEl =\n",
              "          document.querySelector('#df-593381e5-4180-4d38-a46f-201cee24fd46 button.colab-df-convert');\n",
              "        buttonEl.style.display =\n",
              "          google.colab.kernel.accessAllowed ? 'block' : 'none';\n",
              "\n",
              "        async function convertToInteractive(key) {\n",
              "          const element = document.querySelector('#df-593381e5-4180-4d38-a46f-201cee24fd46');\n",
              "          const dataTable =\n",
              "            await google.colab.kernel.invokeFunction('convertToInteractive',\n",
              "                                                     [key], {});\n",
              "          if (!dataTable) return;\n",
              "\n",
              "          const docLinkHtml = 'Like what you see? Visit the ' +\n",
              "            '<a target=\"_blank\" href=https://colab.research.google.com/notebooks/data_table.ipynb>data table notebook</a>'\n",
              "            + ' to learn more about interactive tables.';\n",
              "          element.innerHTML = '';\n",
              "          dataTable['output_type'] = 'display_data';\n",
              "          await google.colab.output.renderOutput(dataTable, element);\n",
              "          const docLink = document.createElement('div');\n",
              "          docLink.innerHTML = docLinkHtml;\n",
              "          element.appendChild(docLink);\n",
              "        }\n",
              "      </script>\n",
              "    </div>\n",
              "  </div>\n"
            ]
          },
          "metadata": {},
          "execution_count": 3
        }
      ]
    },
    {
      "cell_type": "code",
      "source": [
        "# Select all rows where the age is greater than 35\n",
        "df = df[df[\"Age\"] > 35]\n",
        "\n",
        "# Select the name and city columns\n",
        "df = df[[\"Name\", \"City\"]]\n",
        "\n",
        "# Print the DataFrame\n",
        "print(df)"
      ],
      "metadata": {
        "colab": {
          "base_uri": "https://localhost:8080/"
        },
        "id": "9ChhHN_qPoAy",
        "outputId": "08cdcc38-47d8-4b28-e7b1-102fc4e0479d"
      },
      "execution_count": null,
      "outputs": [
        {
          "output_type": "stream",
          "name": "stdout",
          "text": [
            "         Name           City\n",
            "2    Jane Doe    Los Angeles\n",
            "4  Jane Smith  San Francisco\n"
          ]
        }
      ]
    },
    {
      "cell_type": "code",
      "source": [],
      "metadata": {
        "id": "yC1APV1uSXdc"
      },
      "execution_count": null,
      "outputs": []
    },
    {
      "cell_type": "markdown",
      "source": [
        "# **Slicing Technique**"
      ],
      "metadata": {
        "id": "C3Fx5MN-VRd3"
      }
    },
    {
      "cell_type": "markdown",
      "source": [
        "Just need to write\n",
        "\n",
        "\n",
        "1.   Slice one column\n",
        "The syntax of slicing one column is very straightforward — dataframe[‘column name’]. For example, if we want to slice column city\n",
        "2.   Slice continuous columns\n",
        "df[[\"name\",\"city\"]]\n",
        "\n"
      ],
      "metadata": {
        "id": "Dnd07G5kVlvN"
      }
    },
    {
      "cell_type": "code",
      "source": [
        "# Create a DataFrame\n",
        "df = pd.DataFrame({\n",
        "    \"Name\": [\"John Doe\", \"Jane Doe\", \"John Smith\", \"Jane Smith\"],\n",
        "    \"Age\": [30, 25, 40, 35],\n",
        "    \"City\": [\"New York\", \"Los Angeles\", \"Chicago\", \"San Francisco\"]\n",
        "})\n",
        "\n",
        "\n",
        "df"
      ],
      "metadata": {
        "colab": {
          "base_uri": "https://localhost:8080/",
          "height": 175
        },
        "id": "TPaSEO0iVYgX",
        "outputId": "d095ce75-5a39-4df7-bd95-e93b2dda06c9"
      },
      "execution_count": null,
      "outputs": [
        {
          "output_type": "execute_result",
          "data": {
            "text/plain": [
              "         Name  Age           City\n",
              "0    John Doe   30       New York\n",
              "1    Jane Doe   25    Los Angeles\n",
              "2  John Smith   40        Chicago\n",
              "3  Jane Smith   35  San Francisco"
            ],
            "text/html": [
              "\n",
              "\n",
              "  <div id=\"df-d058c0f0-8e54-4547-96d8-21295c13582e\">\n",
              "    <div class=\"colab-df-container\">\n",
              "      <div>\n",
              "<style scoped>\n",
              "    .dataframe tbody tr th:only-of-type {\n",
              "        vertical-align: middle;\n",
              "    }\n",
              "\n",
              "    .dataframe tbody tr th {\n",
              "        vertical-align: top;\n",
              "    }\n",
              "\n",
              "    .dataframe thead th {\n",
              "        text-align: right;\n",
              "    }\n",
              "</style>\n",
              "<table border=\"1\" class=\"dataframe\">\n",
              "  <thead>\n",
              "    <tr style=\"text-align: right;\">\n",
              "      <th></th>\n",
              "      <th>Name</th>\n",
              "      <th>Age</th>\n",
              "      <th>City</th>\n",
              "    </tr>\n",
              "  </thead>\n",
              "  <tbody>\n",
              "    <tr>\n",
              "      <th>0</th>\n",
              "      <td>John Doe</td>\n",
              "      <td>30</td>\n",
              "      <td>New York</td>\n",
              "    </tr>\n",
              "    <tr>\n",
              "      <th>1</th>\n",
              "      <td>Jane Doe</td>\n",
              "      <td>25</td>\n",
              "      <td>Los Angeles</td>\n",
              "    </tr>\n",
              "    <tr>\n",
              "      <th>2</th>\n",
              "      <td>John Smith</td>\n",
              "      <td>40</td>\n",
              "      <td>Chicago</td>\n",
              "    </tr>\n",
              "    <tr>\n",
              "      <th>3</th>\n",
              "      <td>Jane Smith</td>\n",
              "      <td>35</td>\n",
              "      <td>San Francisco</td>\n",
              "    </tr>\n",
              "  </tbody>\n",
              "</table>\n",
              "</div>\n",
              "      <button class=\"colab-df-convert\" onclick=\"convertToInteractive('df-d058c0f0-8e54-4547-96d8-21295c13582e')\"\n",
              "              title=\"Convert this dataframe to an interactive table.\"\n",
              "              style=\"display:none;\">\n",
              "\n",
              "  <svg xmlns=\"http://www.w3.org/2000/svg\" height=\"24px\"viewBox=\"0 0 24 24\"\n",
              "       width=\"24px\">\n",
              "    <path d=\"M0 0h24v24H0V0z\" fill=\"none\"/>\n",
              "    <path d=\"M18.56 5.44l.94 2.06.94-2.06 2.06-.94-2.06-.94-.94-2.06-.94 2.06-2.06.94zm-11 1L8.5 8.5l.94-2.06 2.06-.94-2.06-.94L8.5 2.5l-.94 2.06-2.06.94zm10 10l.94 2.06.94-2.06 2.06-.94-2.06-.94-.94-2.06-.94 2.06-2.06.94z\"/><path d=\"M17.41 7.96l-1.37-1.37c-.4-.4-.92-.59-1.43-.59-.52 0-1.04.2-1.43.59L10.3 9.45l-7.72 7.72c-.78.78-.78 2.05 0 2.83L4 21.41c.39.39.9.59 1.41.59.51 0 1.02-.2 1.41-.59l7.78-7.78 2.81-2.81c.8-.78.8-2.07 0-2.86zM5.41 20L4 18.59l7.72-7.72 1.47 1.35L5.41 20z\"/>\n",
              "  </svg>\n",
              "      </button>\n",
              "\n",
              "\n",
              "\n",
              "    <div id=\"df-7ee0ea14-9fd1-40c2-9f24-74d8f35c41c7\">\n",
              "      <button class=\"colab-df-quickchart\" onclick=\"quickchart('df-7ee0ea14-9fd1-40c2-9f24-74d8f35c41c7')\"\n",
              "              title=\"Suggest charts.\"\n",
              "              style=\"display:none;\">\n",
              "\n",
              "<svg xmlns=\"http://www.w3.org/2000/svg\" height=\"24px\"viewBox=\"0 0 24 24\"\n",
              "     width=\"24px\">\n",
              "    <g>\n",
              "        <path d=\"M19 3H5c-1.1 0-2 .9-2 2v14c0 1.1.9 2 2 2h14c1.1 0 2-.9 2-2V5c0-1.1-.9-2-2-2zM9 17H7v-7h2v7zm4 0h-2V7h2v10zm4 0h-2v-4h2v4z\"/>\n",
              "    </g>\n",
              "</svg>\n",
              "      </button>\n",
              "    </div>\n",
              "\n",
              "<style>\n",
              "  .colab-df-quickchart {\n",
              "    background-color: #E8F0FE;\n",
              "    border: none;\n",
              "    border-radius: 50%;\n",
              "    cursor: pointer;\n",
              "    display: none;\n",
              "    fill: #1967D2;\n",
              "    height: 32px;\n",
              "    padding: 0 0 0 0;\n",
              "    width: 32px;\n",
              "  }\n",
              "\n",
              "  .colab-df-quickchart:hover {\n",
              "    background-color: #E2EBFA;\n",
              "    box-shadow: 0px 1px 2px rgba(60, 64, 67, 0.3), 0px 1px 3px 1px rgba(60, 64, 67, 0.15);\n",
              "    fill: #174EA6;\n",
              "  }\n",
              "\n",
              "  [theme=dark] .colab-df-quickchart {\n",
              "    background-color: #3B4455;\n",
              "    fill: #D2E3FC;\n",
              "  }\n",
              "\n",
              "  [theme=dark] .colab-df-quickchart:hover {\n",
              "    background-color: #434B5C;\n",
              "    box-shadow: 0px 1px 3px 1px rgba(0, 0, 0, 0.15);\n",
              "    filter: drop-shadow(0px 1px 2px rgba(0, 0, 0, 0.3));\n",
              "    fill: #FFFFFF;\n",
              "  }\n",
              "</style>\n",
              "\n",
              "    <script>\n",
              "      async function quickchart(key) {\n",
              "        const containerElement = document.querySelector('#' + key);\n",
              "        const charts = await google.colab.kernel.invokeFunction(\n",
              "            'suggestCharts', [key], {});\n",
              "      }\n",
              "    </script>\n",
              "\n",
              "      <script>\n",
              "\n",
              "function displayQuickchartButton(domScope) {\n",
              "  let quickchartButtonEl =\n",
              "    domScope.querySelector('#df-7ee0ea14-9fd1-40c2-9f24-74d8f35c41c7 button.colab-df-quickchart');\n",
              "  quickchartButtonEl.style.display =\n",
              "    google.colab.kernel.accessAllowed ? 'block' : 'none';\n",
              "}\n",
              "\n",
              "        displayQuickchartButton(document);\n",
              "      </script>\n",
              "      <style>\n",
              "    .colab-df-container {\n",
              "      display:flex;\n",
              "      flex-wrap:wrap;\n",
              "      gap: 12px;\n",
              "    }\n",
              "\n",
              "    .colab-df-convert {\n",
              "      background-color: #E8F0FE;\n",
              "      border: none;\n",
              "      border-radius: 50%;\n",
              "      cursor: pointer;\n",
              "      display: none;\n",
              "      fill: #1967D2;\n",
              "      height: 32px;\n",
              "      padding: 0 0 0 0;\n",
              "      width: 32px;\n",
              "    }\n",
              "\n",
              "    .colab-df-convert:hover {\n",
              "      background-color: #E2EBFA;\n",
              "      box-shadow: 0px 1px 2px rgba(60, 64, 67, 0.3), 0px 1px 3px 1px rgba(60, 64, 67, 0.15);\n",
              "      fill: #174EA6;\n",
              "    }\n",
              "\n",
              "    [theme=dark] .colab-df-convert {\n",
              "      background-color: #3B4455;\n",
              "      fill: #D2E3FC;\n",
              "    }\n",
              "\n",
              "    [theme=dark] .colab-df-convert:hover {\n",
              "      background-color: #434B5C;\n",
              "      box-shadow: 0px 1px 3px 1px rgba(0, 0, 0, 0.15);\n",
              "      filter: drop-shadow(0px 1px 2px rgba(0, 0, 0, 0.3));\n",
              "      fill: #FFFFFF;\n",
              "    }\n",
              "  </style>\n",
              "\n",
              "      <script>\n",
              "        const buttonEl =\n",
              "          document.querySelector('#df-d058c0f0-8e54-4547-96d8-21295c13582e button.colab-df-convert');\n",
              "        buttonEl.style.display =\n",
              "          google.colab.kernel.accessAllowed ? 'block' : 'none';\n",
              "\n",
              "        async function convertToInteractive(key) {\n",
              "          const element = document.querySelector('#df-d058c0f0-8e54-4547-96d8-21295c13582e');\n",
              "          const dataTable =\n",
              "            await google.colab.kernel.invokeFunction('convertToInteractive',\n",
              "                                                     [key], {});\n",
              "          if (!dataTable) return;\n",
              "\n",
              "          const docLinkHtml = 'Like what you see? Visit the ' +\n",
              "            '<a target=\"_blank\" href=https://colab.research.google.com/notebooks/data_table.ipynb>data table notebook</a>'\n",
              "            + ' to learn more about interactive tables.';\n",
              "          element.innerHTML = '';\n",
              "          dataTable['output_type'] = 'display_data';\n",
              "          await google.colab.output.renderOutput(dataTable, element);\n",
              "          const docLink = document.createElement('div');\n",
              "          docLink.innerHTML = docLinkHtml;\n",
              "          element.appendChild(docLink);\n",
              "        }\n",
              "      </script>\n",
              "    </div>\n",
              "  </div>\n"
            ]
          },
          "metadata": {},
          "execution_count": 12
        }
      ]
    },
    {
      "cell_type": "code",
      "source": [
        "c = df[\"Name\"]\n",
        "c"
      ],
      "metadata": {
        "colab": {
          "base_uri": "https://localhost:8080/"
        },
        "id": "s762AXA_Y4SO",
        "outputId": "1c7e5494-3edc-421c-bbea-b6cbeb6ab232"
      },
      "execution_count": null,
      "outputs": [
        {
          "output_type": "execute_result",
          "data": {
            "text/plain": [
              "0      John Doe\n",
              "1      Jane Doe\n",
              "2    John Smith\n",
              "3    Jane Smith\n",
              "Name: Name, dtype: object"
            ]
          },
          "metadata": {},
          "execution_count": 13
        }
      ]
    },
    {
      "cell_type": "code",
      "source": [
        "df.iloc[:,0:1]  # df.iloc[rows(start:end),columns(Start:end)]"
      ],
      "metadata": {
        "colab": {
          "base_uri": "https://localhost:8080/",
          "height": 175
        },
        "id": "Qr_iN1yAWX2L",
        "outputId": "1586f882-df91-402c-bbc8-2c37bb93c307"
      },
      "execution_count": null,
      "outputs": [
        {
          "output_type": "execute_result",
          "data": {
            "text/plain": [
              "         Name\n",
              "0    John Doe\n",
              "1    Jane Doe\n",
              "2  John Smith\n",
              "3  Jane Smith"
            ],
            "text/html": [
              "\n",
              "\n",
              "  <div id=\"df-ef6b59c7-4a0d-4272-a45e-af189d834ced\">\n",
              "    <div class=\"colab-df-container\">\n",
              "      <div>\n",
              "<style scoped>\n",
              "    .dataframe tbody tr th:only-of-type {\n",
              "        vertical-align: middle;\n",
              "    }\n",
              "\n",
              "    .dataframe tbody tr th {\n",
              "        vertical-align: top;\n",
              "    }\n",
              "\n",
              "    .dataframe thead th {\n",
              "        text-align: right;\n",
              "    }\n",
              "</style>\n",
              "<table border=\"1\" class=\"dataframe\">\n",
              "  <thead>\n",
              "    <tr style=\"text-align: right;\">\n",
              "      <th></th>\n",
              "      <th>Name</th>\n",
              "    </tr>\n",
              "  </thead>\n",
              "  <tbody>\n",
              "    <tr>\n",
              "      <th>0</th>\n",
              "      <td>John Doe</td>\n",
              "    </tr>\n",
              "    <tr>\n",
              "      <th>1</th>\n",
              "      <td>Jane Doe</td>\n",
              "    </tr>\n",
              "    <tr>\n",
              "      <th>2</th>\n",
              "      <td>John Smith</td>\n",
              "    </tr>\n",
              "    <tr>\n",
              "      <th>3</th>\n",
              "      <td>Jane Smith</td>\n",
              "    </tr>\n",
              "  </tbody>\n",
              "</table>\n",
              "</div>\n",
              "      <button class=\"colab-df-convert\" onclick=\"convertToInteractive('df-ef6b59c7-4a0d-4272-a45e-af189d834ced')\"\n",
              "              title=\"Convert this dataframe to an interactive table.\"\n",
              "              style=\"display:none;\">\n",
              "\n",
              "  <svg xmlns=\"http://www.w3.org/2000/svg\" height=\"24px\"viewBox=\"0 0 24 24\"\n",
              "       width=\"24px\">\n",
              "    <path d=\"M0 0h24v24H0V0z\" fill=\"none\"/>\n",
              "    <path d=\"M18.56 5.44l.94 2.06.94-2.06 2.06-.94-2.06-.94-.94-2.06-.94 2.06-2.06.94zm-11 1L8.5 8.5l.94-2.06 2.06-.94-2.06-.94L8.5 2.5l-.94 2.06-2.06.94zm10 10l.94 2.06.94-2.06 2.06-.94-2.06-.94-.94-2.06-.94 2.06-2.06.94z\"/><path d=\"M17.41 7.96l-1.37-1.37c-.4-.4-.92-.59-1.43-.59-.52 0-1.04.2-1.43.59L10.3 9.45l-7.72 7.72c-.78.78-.78 2.05 0 2.83L4 21.41c.39.39.9.59 1.41.59.51 0 1.02-.2 1.41-.59l7.78-7.78 2.81-2.81c.8-.78.8-2.07 0-2.86zM5.41 20L4 18.59l7.72-7.72 1.47 1.35L5.41 20z\"/>\n",
              "  </svg>\n",
              "      </button>\n",
              "\n",
              "\n",
              "\n",
              "    <div id=\"df-194ca892-185a-415c-b7b9-68db5ff883df\">\n",
              "      <button class=\"colab-df-quickchart\" onclick=\"quickchart('df-194ca892-185a-415c-b7b9-68db5ff883df')\"\n",
              "              title=\"Suggest charts.\"\n",
              "              style=\"display:none;\">\n",
              "\n",
              "<svg xmlns=\"http://www.w3.org/2000/svg\" height=\"24px\"viewBox=\"0 0 24 24\"\n",
              "     width=\"24px\">\n",
              "    <g>\n",
              "        <path d=\"M19 3H5c-1.1 0-2 .9-2 2v14c0 1.1.9 2 2 2h14c1.1 0 2-.9 2-2V5c0-1.1-.9-2-2-2zM9 17H7v-7h2v7zm4 0h-2V7h2v10zm4 0h-2v-4h2v4z\"/>\n",
              "    </g>\n",
              "</svg>\n",
              "      </button>\n",
              "    </div>\n",
              "\n",
              "<style>\n",
              "  .colab-df-quickchart {\n",
              "    background-color: #E8F0FE;\n",
              "    border: none;\n",
              "    border-radius: 50%;\n",
              "    cursor: pointer;\n",
              "    display: none;\n",
              "    fill: #1967D2;\n",
              "    height: 32px;\n",
              "    padding: 0 0 0 0;\n",
              "    width: 32px;\n",
              "  }\n",
              "\n",
              "  .colab-df-quickchart:hover {\n",
              "    background-color: #E2EBFA;\n",
              "    box-shadow: 0px 1px 2px rgba(60, 64, 67, 0.3), 0px 1px 3px 1px rgba(60, 64, 67, 0.15);\n",
              "    fill: #174EA6;\n",
              "  }\n",
              "\n",
              "  [theme=dark] .colab-df-quickchart {\n",
              "    background-color: #3B4455;\n",
              "    fill: #D2E3FC;\n",
              "  }\n",
              "\n",
              "  [theme=dark] .colab-df-quickchart:hover {\n",
              "    background-color: #434B5C;\n",
              "    box-shadow: 0px 1px 3px 1px rgba(0, 0, 0, 0.15);\n",
              "    filter: drop-shadow(0px 1px 2px rgba(0, 0, 0, 0.3));\n",
              "    fill: #FFFFFF;\n",
              "  }\n",
              "</style>\n",
              "\n",
              "    <script>\n",
              "      async function quickchart(key) {\n",
              "        const containerElement = document.querySelector('#' + key);\n",
              "        const charts = await google.colab.kernel.invokeFunction(\n",
              "            'suggestCharts', [key], {});\n",
              "      }\n",
              "    </script>\n",
              "\n",
              "      <script>\n",
              "\n",
              "function displayQuickchartButton(domScope) {\n",
              "  let quickchartButtonEl =\n",
              "    domScope.querySelector('#df-194ca892-185a-415c-b7b9-68db5ff883df button.colab-df-quickchart');\n",
              "  quickchartButtonEl.style.display =\n",
              "    google.colab.kernel.accessAllowed ? 'block' : 'none';\n",
              "}\n",
              "\n",
              "        displayQuickchartButton(document);\n",
              "      </script>\n",
              "      <style>\n",
              "    .colab-df-container {\n",
              "      display:flex;\n",
              "      flex-wrap:wrap;\n",
              "      gap: 12px;\n",
              "    }\n",
              "\n",
              "    .colab-df-convert {\n",
              "      background-color: #E8F0FE;\n",
              "      border: none;\n",
              "      border-radius: 50%;\n",
              "      cursor: pointer;\n",
              "      display: none;\n",
              "      fill: #1967D2;\n",
              "      height: 32px;\n",
              "      padding: 0 0 0 0;\n",
              "      width: 32px;\n",
              "    }\n",
              "\n",
              "    .colab-df-convert:hover {\n",
              "      background-color: #E2EBFA;\n",
              "      box-shadow: 0px 1px 2px rgba(60, 64, 67, 0.3), 0px 1px 3px 1px rgba(60, 64, 67, 0.15);\n",
              "      fill: #174EA6;\n",
              "    }\n",
              "\n",
              "    [theme=dark] .colab-df-convert {\n",
              "      background-color: #3B4455;\n",
              "      fill: #D2E3FC;\n",
              "    }\n",
              "\n",
              "    [theme=dark] .colab-df-convert:hover {\n",
              "      background-color: #434B5C;\n",
              "      box-shadow: 0px 1px 3px 1px rgba(0, 0, 0, 0.15);\n",
              "      filter: drop-shadow(0px 1px 2px rgba(0, 0, 0, 0.3));\n",
              "      fill: #FFFFFF;\n",
              "    }\n",
              "  </style>\n",
              "\n",
              "      <script>\n",
              "        const buttonEl =\n",
              "          document.querySelector('#df-ef6b59c7-4a0d-4272-a45e-af189d834ced button.colab-df-convert');\n",
              "        buttonEl.style.display =\n",
              "          google.colab.kernel.accessAllowed ? 'block' : 'none';\n",
              "\n",
              "        async function convertToInteractive(key) {\n",
              "          const element = document.querySelector('#df-ef6b59c7-4a0d-4272-a45e-af189d834ced');\n",
              "          const dataTable =\n",
              "            await google.colab.kernel.invokeFunction('convertToInteractive',\n",
              "                                                     [key], {});\n",
              "          if (!dataTable) return;\n",
              "\n",
              "          const docLinkHtml = 'Like what you see? Visit the ' +\n",
              "            '<a target=\"_blank\" href=https://colab.research.google.com/notebooks/data_table.ipynb>data table notebook</a>'\n",
              "            + ' to learn more about interactive tables.';\n",
              "          element.innerHTML = '';\n",
              "          dataTable['output_type'] = 'display_data';\n",
              "          await google.colab.output.renderOutput(dataTable, element);\n",
              "          const docLink = document.createElement('div');\n",
              "          docLink.innerHTML = docLinkHtml;\n",
              "          element.appendChild(docLink);\n",
              "        }\n",
              "      </script>\n",
              "    </div>\n",
              "  </div>\n"
            ]
          },
          "metadata": {},
          "execution_count": 23
        }
      ]
    },
    {
      "cell_type": "code",
      "source": [
        "df.iloc[[2]]   #It locates at row 3 but the index for row 3 in Python is 2."
      ],
      "metadata": {
        "colab": {
          "base_uri": "https://localhost:8080/",
          "height": 81
        },
        "id": "ijU2ohOyYjOa",
        "outputId": "17a46360-7816-4a97-9c14-a743ccc3ecfa"
      },
      "execution_count": null,
      "outputs": [
        {
          "output_type": "execute_result",
          "data": {
            "text/plain": [
              "         Name  Age     City\n",
              "2  John Smith   40  Chicago"
            ],
            "text/html": [
              "\n",
              "\n",
              "  <div id=\"df-fc332e5f-22f3-45bc-97fb-99daddde0555\">\n",
              "    <div class=\"colab-df-container\">\n",
              "      <div>\n",
              "<style scoped>\n",
              "    .dataframe tbody tr th:only-of-type {\n",
              "        vertical-align: middle;\n",
              "    }\n",
              "\n",
              "    .dataframe tbody tr th {\n",
              "        vertical-align: top;\n",
              "    }\n",
              "\n",
              "    .dataframe thead th {\n",
              "        text-align: right;\n",
              "    }\n",
              "</style>\n",
              "<table border=\"1\" class=\"dataframe\">\n",
              "  <thead>\n",
              "    <tr style=\"text-align: right;\">\n",
              "      <th></th>\n",
              "      <th>Name</th>\n",
              "      <th>Age</th>\n",
              "      <th>City</th>\n",
              "    </tr>\n",
              "  </thead>\n",
              "  <tbody>\n",
              "    <tr>\n",
              "      <th>2</th>\n",
              "      <td>John Smith</td>\n",
              "      <td>40</td>\n",
              "      <td>Chicago</td>\n",
              "    </tr>\n",
              "  </tbody>\n",
              "</table>\n",
              "</div>\n",
              "      <button class=\"colab-df-convert\" onclick=\"convertToInteractive('df-fc332e5f-22f3-45bc-97fb-99daddde0555')\"\n",
              "              title=\"Convert this dataframe to an interactive table.\"\n",
              "              style=\"display:none;\">\n",
              "\n",
              "  <svg xmlns=\"http://www.w3.org/2000/svg\" height=\"24px\"viewBox=\"0 0 24 24\"\n",
              "       width=\"24px\">\n",
              "    <path d=\"M0 0h24v24H0V0z\" fill=\"none\"/>\n",
              "    <path d=\"M18.56 5.44l.94 2.06.94-2.06 2.06-.94-2.06-.94-.94-2.06-.94 2.06-2.06.94zm-11 1L8.5 8.5l.94-2.06 2.06-.94-2.06-.94L8.5 2.5l-.94 2.06-2.06.94zm10 10l.94 2.06.94-2.06 2.06-.94-2.06-.94-.94-2.06-.94 2.06-2.06.94z\"/><path d=\"M17.41 7.96l-1.37-1.37c-.4-.4-.92-.59-1.43-.59-.52 0-1.04.2-1.43.59L10.3 9.45l-7.72 7.72c-.78.78-.78 2.05 0 2.83L4 21.41c.39.39.9.59 1.41.59.51 0 1.02-.2 1.41-.59l7.78-7.78 2.81-2.81c.8-.78.8-2.07 0-2.86zM5.41 20L4 18.59l7.72-7.72 1.47 1.35L5.41 20z\"/>\n",
              "  </svg>\n",
              "      </button>\n",
              "\n",
              "\n",
              "\n",
              "    <div id=\"df-144746ba-5bb7-4ed2-bcfa-e19bc454ea98\">\n",
              "      <button class=\"colab-df-quickchart\" onclick=\"quickchart('df-144746ba-5bb7-4ed2-bcfa-e19bc454ea98')\"\n",
              "              title=\"Suggest charts.\"\n",
              "              style=\"display:none;\">\n",
              "\n",
              "<svg xmlns=\"http://www.w3.org/2000/svg\" height=\"24px\"viewBox=\"0 0 24 24\"\n",
              "     width=\"24px\">\n",
              "    <g>\n",
              "        <path d=\"M19 3H5c-1.1 0-2 .9-2 2v14c0 1.1.9 2 2 2h14c1.1 0 2-.9 2-2V5c0-1.1-.9-2-2-2zM9 17H7v-7h2v7zm4 0h-2V7h2v10zm4 0h-2v-4h2v4z\"/>\n",
              "    </g>\n",
              "</svg>\n",
              "      </button>\n",
              "    </div>\n",
              "\n",
              "<style>\n",
              "  .colab-df-quickchart {\n",
              "    background-color: #E8F0FE;\n",
              "    border: none;\n",
              "    border-radius: 50%;\n",
              "    cursor: pointer;\n",
              "    display: none;\n",
              "    fill: #1967D2;\n",
              "    height: 32px;\n",
              "    padding: 0 0 0 0;\n",
              "    width: 32px;\n",
              "  }\n",
              "\n",
              "  .colab-df-quickchart:hover {\n",
              "    background-color: #E2EBFA;\n",
              "    box-shadow: 0px 1px 2px rgba(60, 64, 67, 0.3), 0px 1px 3px 1px rgba(60, 64, 67, 0.15);\n",
              "    fill: #174EA6;\n",
              "  }\n",
              "\n",
              "  [theme=dark] .colab-df-quickchart {\n",
              "    background-color: #3B4455;\n",
              "    fill: #D2E3FC;\n",
              "  }\n",
              "\n",
              "  [theme=dark] .colab-df-quickchart:hover {\n",
              "    background-color: #434B5C;\n",
              "    box-shadow: 0px 1px 3px 1px rgba(0, 0, 0, 0.15);\n",
              "    filter: drop-shadow(0px 1px 2px rgba(0, 0, 0, 0.3));\n",
              "    fill: #FFFFFF;\n",
              "  }\n",
              "</style>\n",
              "\n",
              "    <script>\n",
              "      async function quickchart(key) {\n",
              "        const containerElement = document.querySelector('#' + key);\n",
              "        const charts = await google.colab.kernel.invokeFunction(\n",
              "            'suggestCharts', [key], {});\n",
              "      }\n",
              "    </script>\n",
              "\n",
              "      <script>\n",
              "\n",
              "function displayQuickchartButton(domScope) {\n",
              "  let quickchartButtonEl =\n",
              "    domScope.querySelector('#df-144746ba-5bb7-4ed2-bcfa-e19bc454ea98 button.colab-df-quickchart');\n",
              "  quickchartButtonEl.style.display =\n",
              "    google.colab.kernel.accessAllowed ? 'block' : 'none';\n",
              "}\n",
              "\n",
              "        displayQuickchartButton(document);\n",
              "      </script>\n",
              "      <style>\n",
              "    .colab-df-container {\n",
              "      display:flex;\n",
              "      flex-wrap:wrap;\n",
              "      gap: 12px;\n",
              "    }\n",
              "\n",
              "    .colab-df-convert {\n",
              "      background-color: #E8F0FE;\n",
              "      border: none;\n",
              "      border-radius: 50%;\n",
              "      cursor: pointer;\n",
              "      display: none;\n",
              "      fill: #1967D2;\n",
              "      height: 32px;\n",
              "      padding: 0 0 0 0;\n",
              "      width: 32px;\n",
              "    }\n",
              "\n",
              "    .colab-df-convert:hover {\n",
              "      background-color: #E2EBFA;\n",
              "      box-shadow: 0px 1px 2px rgba(60, 64, 67, 0.3), 0px 1px 3px 1px rgba(60, 64, 67, 0.15);\n",
              "      fill: #174EA6;\n",
              "    }\n",
              "\n",
              "    [theme=dark] .colab-df-convert {\n",
              "      background-color: #3B4455;\n",
              "      fill: #D2E3FC;\n",
              "    }\n",
              "\n",
              "    [theme=dark] .colab-df-convert:hover {\n",
              "      background-color: #434B5C;\n",
              "      box-shadow: 0px 1px 3px 1px rgba(0, 0, 0, 0.15);\n",
              "      filter: drop-shadow(0px 1px 2px rgba(0, 0, 0, 0.3));\n",
              "      fill: #FFFFFF;\n",
              "    }\n",
              "  </style>\n",
              "\n",
              "      <script>\n",
              "        const buttonEl =\n",
              "          document.querySelector('#df-fc332e5f-22f3-45bc-97fb-99daddde0555 button.colab-df-convert');\n",
              "        buttonEl.style.display =\n",
              "          google.colab.kernel.accessAllowed ? 'block' : 'none';\n",
              "\n",
              "        async function convertToInteractive(key) {\n",
              "          const element = document.querySelector('#df-fc332e5f-22f3-45bc-97fb-99daddde0555');\n",
              "          const dataTable =\n",
              "            await google.colab.kernel.invokeFunction('convertToInteractive',\n",
              "                                                     [key], {});\n",
              "          if (!dataTable) return;\n",
              "\n",
              "          const docLinkHtml = 'Like what you see? Visit the ' +\n",
              "            '<a target=\"_blank\" href=https://colab.research.google.com/notebooks/data_table.ipynb>data table notebook</a>'\n",
              "            + ' to learn more about interactive tables.';\n",
              "          element.innerHTML = '';\n",
              "          dataTable['output_type'] = 'display_data';\n",
              "          await google.colab.output.renderOutput(dataTable, element);\n",
              "          const docLink = document.createElement('div');\n",
              "          docLink.innerHTML = docLinkHtml;\n",
              "          element.appendChild(docLink);\n",
              "        }\n",
              "      </script>\n",
              "    </div>\n",
              "  </div>\n"
            ]
          },
          "metadata": {},
          "execution_count": 22
        }
      ]
    },
    {
      "cell_type": "markdown",
      "source": [
        "# **Merging DataFrame**"
      ],
      "metadata": {
        "id": "zLK3lGqTf8jL"
      }
    },
    {
      "cell_type": "markdown",
      "source": [
        "Merging DataFrames in Pandas can be done using the merge() method. The merge() method takes two DataFrames as input and merges them based on the **common columns**. The merge() method returns a new DataFrame that contains the merged data.\n",
        "\n",
        "\n",
        "*   Inner Merge\n",
        "*   Left Merge\n",
        "*   Right Merge\n",
        "*   Outer Merge\n",
        "\n"
      ],
      "metadata": {
        "id": "jjFfejrBgGOZ"
      }
    },
    {
      "cell_type": "code",
      "source": [
        "# Create two DataFrames\n",
        "df1 = pd.DataFrame({\n",
        "    \"Name\": [\"John Doe\", \"Jane Doe\", \"John Smith\", \"Jane Smith\"],\n",
        "    \"Age\": [30, 25, 40, 35],\n",
        "    \"City\": [\"New York\", \"Los Angeles\", \"Chicago\", \"San Francisco\"]\n",
        "})\n",
        "\n",
        "df2 = pd.DataFrame({\n",
        "    \"Name\": [\"John Doe\", \"Jane Doe\", \"John Smith\", \"Jane Smith\"],\n",
        "    \"Salary\": [100000, 80000, 120000, 90000],\n",
        "    \"State\": [\"NY\", \"CA\", \"IL\", \"CA\"]})\n",
        "#syntax df.merge(data,on=\"column_Name\",how = \"left~Right~inner~outer\")"
      ],
      "metadata": {
        "id": "ZZqttJA2gFI2"
      },
      "execution_count": null,
      "outputs": []
    },
    {
      "cell_type": "code",
      "source": [
        "innerr = df1.merge(df2, on=\"Name\", how=\"inner\")  #inner Merge\n",
        "innerr"
      ],
      "metadata": {
        "colab": {
          "base_uri": "https://localhost:8080/",
          "height": 175
        },
        "id": "59o9nIRcgtep",
        "outputId": "ba3b0225-423a-4726-96d2-e623c4c8f090"
      },
      "execution_count": null,
      "outputs": [
        {
          "output_type": "execute_result",
          "data": {
            "text/plain": [
              "         Name  Age           City  Salary State\n",
              "0    John Doe   30       New York  100000    NY\n",
              "1    Jane Doe   25    Los Angeles   80000    CA\n",
              "2  John Smith   40        Chicago  120000    IL\n",
              "3  Jane Smith   35  San Francisco   90000    CA"
            ],
            "text/html": [
              "\n",
              "\n",
              "  <div id=\"df-91503f27-40e2-4cc9-99a9-a80c44e06fcb\">\n",
              "    <div class=\"colab-df-container\">\n",
              "      <div>\n",
              "<style scoped>\n",
              "    .dataframe tbody tr th:only-of-type {\n",
              "        vertical-align: middle;\n",
              "    }\n",
              "\n",
              "    .dataframe tbody tr th {\n",
              "        vertical-align: top;\n",
              "    }\n",
              "\n",
              "    .dataframe thead th {\n",
              "        text-align: right;\n",
              "    }\n",
              "</style>\n",
              "<table border=\"1\" class=\"dataframe\">\n",
              "  <thead>\n",
              "    <tr style=\"text-align: right;\">\n",
              "      <th></th>\n",
              "      <th>Name</th>\n",
              "      <th>Age</th>\n",
              "      <th>City</th>\n",
              "      <th>Salary</th>\n",
              "      <th>State</th>\n",
              "    </tr>\n",
              "  </thead>\n",
              "  <tbody>\n",
              "    <tr>\n",
              "      <th>0</th>\n",
              "      <td>John Doe</td>\n",
              "      <td>30</td>\n",
              "      <td>New York</td>\n",
              "      <td>100000</td>\n",
              "      <td>NY</td>\n",
              "    </tr>\n",
              "    <tr>\n",
              "      <th>1</th>\n",
              "      <td>Jane Doe</td>\n",
              "      <td>25</td>\n",
              "      <td>Los Angeles</td>\n",
              "      <td>80000</td>\n",
              "      <td>CA</td>\n",
              "    </tr>\n",
              "    <tr>\n",
              "      <th>2</th>\n",
              "      <td>John Smith</td>\n",
              "      <td>40</td>\n",
              "      <td>Chicago</td>\n",
              "      <td>120000</td>\n",
              "      <td>IL</td>\n",
              "    </tr>\n",
              "    <tr>\n",
              "      <th>3</th>\n",
              "      <td>Jane Smith</td>\n",
              "      <td>35</td>\n",
              "      <td>San Francisco</td>\n",
              "      <td>90000</td>\n",
              "      <td>CA</td>\n",
              "    </tr>\n",
              "  </tbody>\n",
              "</table>\n",
              "</div>\n",
              "      <button class=\"colab-df-convert\" onclick=\"convertToInteractive('df-91503f27-40e2-4cc9-99a9-a80c44e06fcb')\"\n",
              "              title=\"Convert this dataframe to an interactive table.\"\n",
              "              style=\"display:none;\">\n",
              "\n",
              "  <svg xmlns=\"http://www.w3.org/2000/svg\" height=\"24px\"viewBox=\"0 0 24 24\"\n",
              "       width=\"24px\">\n",
              "    <path d=\"M0 0h24v24H0V0z\" fill=\"none\"/>\n",
              "    <path d=\"M18.56 5.44l.94 2.06.94-2.06 2.06-.94-2.06-.94-.94-2.06-.94 2.06-2.06.94zm-11 1L8.5 8.5l.94-2.06 2.06-.94-2.06-.94L8.5 2.5l-.94 2.06-2.06.94zm10 10l.94 2.06.94-2.06 2.06-.94-2.06-.94-.94-2.06-.94 2.06-2.06.94z\"/><path d=\"M17.41 7.96l-1.37-1.37c-.4-.4-.92-.59-1.43-.59-.52 0-1.04.2-1.43.59L10.3 9.45l-7.72 7.72c-.78.78-.78 2.05 0 2.83L4 21.41c.39.39.9.59 1.41.59.51 0 1.02-.2 1.41-.59l7.78-7.78 2.81-2.81c.8-.78.8-2.07 0-2.86zM5.41 20L4 18.59l7.72-7.72 1.47 1.35L5.41 20z\"/>\n",
              "  </svg>\n",
              "      </button>\n",
              "\n",
              "\n",
              "\n",
              "    <div id=\"df-2aa4d7e9-4e89-4ca7-855c-e238aedfe046\">\n",
              "      <button class=\"colab-df-quickchart\" onclick=\"quickchart('df-2aa4d7e9-4e89-4ca7-855c-e238aedfe046')\"\n",
              "              title=\"Suggest charts.\"\n",
              "              style=\"display:none;\">\n",
              "\n",
              "<svg xmlns=\"http://www.w3.org/2000/svg\" height=\"24px\"viewBox=\"0 0 24 24\"\n",
              "     width=\"24px\">\n",
              "    <g>\n",
              "        <path d=\"M19 3H5c-1.1 0-2 .9-2 2v14c0 1.1.9 2 2 2h14c1.1 0 2-.9 2-2V5c0-1.1-.9-2-2-2zM9 17H7v-7h2v7zm4 0h-2V7h2v10zm4 0h-2v-4h2v4z\"/>\n",
              "    </g>\n",
              "</svg>\n",
              "      </button>\n",
              "    </div>\n",
              "\n",
              "<style>\n",
              "  .colab-df-quickchart {\n",
              "    background-color: #E8F0FE;\n",
              "    border: none;\n",
              "    border-radius: 50%;\n",
              "    cursor: pointer;\n",
              "    display: none;\n",
              "    fill: #1967D2;\n",
              "    height: 32px;\n",
              "    padding: 0 0 0 0;\n",
              "    width: 32px;\n",
              "  }\n",
              "\n",
              "  .colab-df-quickchart:hover {\n",
              "    background-color: #E2EBFA;\n",
              "    box-shadow: 0px 1px 2px rgba(60, 64, 67, 0.3), 0px 1px 3px 1px rgba(60, 64, 67, 0.15);\n",
              "    fill: #174EA6;\n",
              "  }\n",
              "\n",
              "  [theme=dark] .colab-df-quickchart {\n",
              "    background-color: #3B4455;\n",
              "    fill: #D2E3FC;\n",
              "  }\n",
              "\n",
              "  [theme=dark] .colab-df-quickchart:hover {\n",
              "    background-color: #434B5C;\n",
              "    box-shadow: 0px 1px 3px 1px rgba(0, 0, 0, 0.15);\n",
              "    filter: drop-shadow(0px 1px 2px rgba(0, 0, 0, 0.3));\n",
              "    fill: #FFFFFF;\n",
              "  }\n",
              "</style>\n",
              "\n",
              "    <script>\n",
              "      async function quickchart(key) {\n",
              "        const containerElement = document.querySelector('#' + key);\n",
              "        const charts = await google.colab.kernel.invokeFunction(\n",
              "            'suggestCharts', [key], {});\n",
              "      }\n",
              "    </script>\n",
              "\n",
              "      <script>\n",
              "\n",
              "function displayQuickchartButton(domScope) {\n",
              "  let quickchartButtonEl =\n",
              "    domScope.querySelector('#df-2aa4d7e9-4e89-4ca7-855c-e238aedfe046 button.colab-df-quickchart');\n",
              "  quickchartButtonEl.style.display =\n",
              "    google.colab.kernel.accessAllowed ? 'block' : 'none';\n",
              "}\n",
              "\n",
              "        displayQuickchartButton(document);\n",
              "      </script>\n",
              "      <style>\n",
              "    .colab-df-container {\n",
              "      display:flex;\n",
              "      flex-wrap:wrap;\n",
              "      gap: 12px;\n",
              "    }\n",
              "\n",
              "    .colab-df-convert {\n",
              "      background-color: #E8F0FE;\n",
              "      border: none;\n",
              "      border-radius: 50%;\n",
              "      cursor: pointer;\n",
              "      display: none;\n",
              "      fill: #1967D2;\n",
              "      height: 32px;\n",
              "      padding: 0 0 0 0;\n",
              "      width: 32px;\n",
              "    }\n",
              "\n",
              "    .colab-df-convert:hover {\n",
              "      background-color: #E2EBFA;\n",
              "      box-shadow: 0px 1px 2px rgba(60, 64, 67, 0.3), 0px 1px 3px 1px rgba(60, 64, 67, 0.15);\n",
              "      fill: #174EA6;\n",
              "    }\n",
              "\n",
              "    [theme=dark] .colab-df-convert {\n",
              "      background-color: #3B4455;\n",
              "      fill: #D2E3FC;\n",
              "    }\n",
              "\n",
              "    [theme=dark] .colab-df-convert:hover {\n",
              "      background-color: #434B5C;\n",
              "      box-shadow: 0px 1px 3px 1px rgba(0, 0, 0, 0.15);\n",
              "      filter: drop-shadow(0px 1px 2px rgba(0, 0, 0, 0.3));\n",
              "      fill: #FFFFFF;\n",
              "    }\n",
              "  </style>\n",
              "\n",
              "      <script>\n",
              "        const buttonEl =\n",
              "          document.querySelector('#df-91503f27-40e2-4cc9-99a9-a80c44e06fcb button.colab-df-convert');\n",
              "        buttonEl.style.display =\n",
              "          google.colab.kernel.accessAllowed ? 'block' : 'none';\n",
              "\n",
              "        async function convertToInteractive(key) {\n",
              "          const element = document.querySelector('#df-91503f27-40e2-4cc9-99a9-a80c44e06fcb');\n",
              "          const dataTable =\n",
              "            await google.colab.kernel.invokeFunction('convertToInteractive',\n",
              "                                                     [key], {});\n",
              "          if (!dataTable) return;\n",
              "\n",
              "          const docLinkHtml = 'Like what you see? Visit the ' +\n",
              "            '<a target=\"_blank\" href=https://colab.research.google.com/notebooks/data_table.ipynb>data table notebook</a>'\n",
              "            + ' to learn more about interactive tables.';\n",
              "          element.innerHTML = '';\n",
              "          dataTable['output_type'] = 'display_data';\n",
              "          await google.colab.output.renderOutput(dataTable, element);\n",
              "          const docLink = document.createElement('div');\n",
              "          docLink.innerHTML = docLinkHtml;\n",
              "          element.appendChild(docLink);\n",
              "        }\n",
              "      </script>\n",
              "    </div>\n",
              "  </div>\n"
            ]
          },
          "metadata": {},
          "execution_count": 35
        }
      ]
    },
    {
      "cell_type": "code",
      "source": [
        "left = df1.merge(df2, on=\"Name\", how=\"left\")\n",
        "left"
      ],
      "metadata": {
        "colab": {
          "base_uri": "https://localhost:8080/",
          "height": 175
        },
        "id": "gE7tR1Nbh8wX",
        "outputId": "acd2e3b7-ee3c-466f-db84-15e683c13ea1"
      },
      "execution_count": null,
      "outputs": [
        {
          "output_type": "execute_result",
          "data": {
            "text/plain": [
              "         Name  Age           City  Salary State\n",
              "0    John Doe   30       New York  100000    NY\n",
              "1    Jane Doe   25    Los Angeles   80000    CA\n",
              "2  John Smith   40        Chicago  120000    IL\n",
              "3  Jane Smith   35  San Francisco   90000    CA"
            ],
            "text/html": [
              "\n",
              "\n",
              "  <div id=\"df-edb30de7-7aeb-46e3-8bcf-197037b4e2fa\">\n",
              "    <div class=\"colab-df-container\">\n",
              "      <div>\n",
              "<style scoped>\n",
              "    .dataframe tbody tr th:only-of-type {\n",
              "        vertical-align: middle;\n",
              "    }\n",
              "\n",
              "    .dataframe tbody tr th {\n",
              "        vertical-align: top;\n",
              "    }\n",
              "\n",
              "    .dataframe thead th {\n",
              "        text-align: right;\n",
              "    }\n",
              "</style>\n",
              "<table border=\"1\" class=\"dataframe\">\n",
              "  <thead>\n",
              "    <tr style=\"text-align: right;\">\n",
              "      <th></th>\n",
              "      <th>Name</th>\n",
              "      <th>Age</th>\n",
              "      <th>City</th>\n",
              "      <th>Salary</th>\n",
              "      <th>State</th>\n",
              "    </tr>\n",
              "  </thead>\n",
              "  <tbody>\n",
              "    <tr>\n",
              "      <th>0</th>\n",
              "      <td>John Doe</td>\n",
              "      <td>30</td>\n",
              "      <td>New York</td>\n",
              "      <td>100000</td>\n",
              "      <td>NY</td>\n",
              "    </tr>\n",
              "    <tr>\n",
              "      <th>1</th>\n",
              "      <td>Jane Doe</td>\n",
              "      <td>25</td>\n",
              "      <td>Los Angeles</td>\n",
              "      <td>80000</td>\n",
              "      <td>CA</td>\n",
              "    </tr>\n",
              "    <tr>\n",
              "      <th>2</th>\n",
              "      <td>John Smith</td>\n",
              "      <td>40</td>\n",
              "      <td>Chicago</td>\n",
              "      <td>120000</td>\n",
              "      <td>IL</td>\n",
              "    </tr>\n",
              "    <tr>\n",
              "      <th>3</th>\n",
              "      <td>Jane Smith</td>\n",
              "      <td>35</td>\n",
              "      <td>San Francisco</td>\n",
              "      <td>90000</td>\n",
              "      <td>CA</td>\n",
              "    </tr>\n",
              "  </tbody>\n",
              "</table>\n",
              "</div>\n",
              "      <button class=\"colab-df-convert\" onclick=\"convertToInteractive('df-edb30de7-7aeb-46e3-8bcf-197037b4e2fa')\"\n",
              "              title=\"Convert this dataframe to an interactive table.\"\n",
              "              style=\"display:none;\">\n",
              "\n",
              "  <svg xmlns=\"http://www.w3.org/2000/svg\" height=\"24px\"viewBox=\"0 0 24 24\"\n",
              "       width=\"24px\">\n",
              "    <path d=\"M0 0h24v24H0V0z\" fill=\"none\"/>\n",
              "    <path d=\"M18.56 5.44l.94 2.06.94-2.06 2.06-.94-2.06-.94-.94-2.06-.94 2.06-2.06.94zm-11 1L8.5 8.5l.94-2.06 2.06-.94-2.06-.94L8.5 2.5l-.94 2.06-2.06.94zm10 10l.94 2.06.94-2.06 2.06-.94-2.06-.94-.94-2.06-.94 2.06-2.06.94z\"/><path d=\"M17.41 7.96l-1.37-1.37c-.4-.4-.92-.59-1.43-.59-.52 0-1.04.2-1.43.59L10.3 9.45l-7.72 7.72c-.78.78-.78 2.05 0 2.83L4 21.41c.39.39.9.59 1.41.59.51 0 1.02-.2 1.41-.59l7.78-7.78 2.81-2.81c.8-.78.8-2.07 0-2.86zM5.41 20L4 18.59l7.72-7.72 1.47 1.35L5.41 20z\"/>\n",
              "  </svg>\n",
              "      </button>\n",
              "\n",
              "\n",
              "\n",
              "    <div id=\"df-b514e7ea-fe2e-4d6f-9e57-0d4f49f863b7\">\n",
              "      <button class=\"colab-df-quickchart\" onclick=\"quickchart('df-b514e7ea-fe2e-4d6f-9e57-0d4f49f863b7')\"\n",
              "              title=\"Suggest charts.\"\n",
              "              style=\"display:none;\">\n",
              "\n",
              "<svg xmlns=\"http://www.w3.org/2000/svg\" height=\"24px\"viewBox=\"0 0 24 24\"\n",
              "     width=\"24px\">\n",
              "    <g>\n",
              "        <path d=\"M19 3H5c-1.1 0-2 .9-2 2v14c0 1.1.9 2 2 2h14c1.1 0 2-.9 2-2V5c0-1.1-.9-2-2-2zM9 17H7v-7h2v7zm4 0h-2V7h2v10zm4 0h-2v-4h2v4z\"/>\n",
              "    </g>\n",
              "</svg>\n",
              "      </button>\n",
              "    </div>\n",
              "\n",
              "<style>\n",
              "  .colab-df-quickchart {\n",
              "    background-color: #E8F0FE;\n",
              "    border: none;\n",
              "    border-radius: 50%;\n",
              "    cursor: pointer;\n",
              "    display: none;\n",
              "    fill: #1967D2;\n",
              "    height: 32px;\n",
              "    padding: 0 0 0 0;\n",
              "    width: 32px;\n",
              "  }\n",
              "\n",
              "  .colab-df-quickchart:hover {\n",
              "    background-color: #E2EBFA;\n",
              "    box-shadow: 0px 1px 2px rgba(60, 64, 67, 0.3), 0px 1px 3px 1px rgba(60, 64, 67, 0.15);\n",
              "    fill: #174EA6;\n",
              "  }\n",
              "\n",
              "  [theme=dark] .colab-df-quickchart {\n",
              "    background-color: #3B4455;\n",
              "    fill: #D2E3FC;\n",
              "  }\n",
              "\n",
              "  [theme=dark] .colab-df-quickchart:hover {\n",
              "    background-color: #434B5C;\n",
              "    box-shadow: 0px 1px 3px 1px rgba(0, 0, 0, 0.15);\n",
              "    filter: drop-shadow(0px 1px 2px rgba(0, 0, 0, 0.3));\n",
              "    fill: #FFFFFF;\n",
              "  }\n",
              "</style>\n",
              "\n",
              "    <script>\n",
              "      async function quickchart(key) {\n",
              "        const containerElement = document.querySelector('#' + key);\n",
              "        const charts = await google.colab.kernel.invokeFunction(\n",
              "            'suggestCharts', [key], {});\n",
              "      }\n",
              "    </script>\n",
              "\n",
              "      <script>\n",
              "\n",
              "function displayQuickchartButton(domScope) {\n",
              "  let quickchartButtonEl =\n",
              "    domScope.querySelector('#df-b514e7ea-fe2e-4d6f-9e57-0d4f49f863b7 button.colab-df-quickchart');\n",
              "  quickchartButtonEl.style.display =\n",
              "    google.colab.kernel.accessAllowed ? 'block' : 'none';\n",
              "}\n",
              "\n",
              "        displayQuickchartButton(document);\n",
              "      </script>\n",
              "      <style>\n",
              "    .colab-df-container {\n",
              "      display:flex;\n",
              "      flex-wrap:wrap;\n",
              "      gap: 12px;\n",
              "    }\n",
              "\n",
              "    .colab-df-convert {\n",
              "      background-color: #E8F0FE;\n",
              "      border: none;\n",
              "      border-radius: 50%;\n",
              "      cursor: pointer;\n",
              "      display: none;\n",
              "      fill: #1967D2;\n",
              "      height: 32px;\n",
              "      padding: 0 0 0 0;\n",
              "      width: 32px;\n",
              "    }\n",
              "\n",
              "    .colab-df-convert:hover {\n",
              "      background-color: #E2EBFA;\n",
              "      box-shadow: 0px 1px 2px rgba(60, 64, 67, 0.3), 0px 1px 3px 1px rgba(60, 64, 67, 0.15);\n",
              "      fill: #174EA6;\n",
              "    }\n",
              "\n",
              "    [theme=dark] .colab-df-convert {\n",
              "      background-color: #3B4455;\n",
              "      fill: #D2E3FC;\n",
              "    }\n",
              "\n",
              "    [theme=dark] .colab-df-convert:hover {\n",
              "      background-color: #434B5C;\n",
              "      box-shadow: 0px 1px 3px 1px rgba(0, 0, 0, 0.15);\n",
              "      filter: drop-shadow(0px 1px 2px rgba(0, 0, 0, 0.3));\n",
              "      fill: #FFFFFF;\n",
              "    }\n",
              "  </style>\n",
              "\n",
              "      <script>\n",
              "        const buttonEl =\n",
              "          document.querySelector('#df-edb30de7-7aeb-46e3-8bcf-197037b4e2fa button.colab-df-convert');\n",
              "        buttonEl.style.display =\n",
              "          google.colab.kernel.accessAllowed ? 'block' : 'none';\n",
              "\n",
              "        async function convertToInteractive(key) {\n",
              "          const element = document.querySelector('#df-edb30de7-7aeb-46e3-8bcf-197037b4e2fa');\n",
              "          const dataTable =\n",
              "            await google.colab.kernel.invokeFunction('convertToInteractive',\n",
              "                                                     [key], {});\n",
              "          if (!dataTable) return;\n",
              "\n",
              "          const docLinkHtml = 'Like what you see? Visit the ' +\n",
              "            '<a target=\"_blank\" href=https://colab.research.google.com/notebooks/data_table.ipynb>data table notebook</a>'\n",
              "            + ' to learn more about interactive tables.';\n",
              "          element.innerHTML = '';\n",
              "          dataTable['output_type'] = 'display_data';\n",
              "          await google.colab.output.renderOutput(dataTable, element);\n",
              "          const docLink = document.createElement('div');\n",
              "          docLink.innerHTML = docLinkHtml;\n",
              "          element.appendChild(docLink);\n",
              "        }\n",
              "      </script>\n",
              "    </div>\n",
              "  </div>\n"
            ]
          },
          "metadata": {},
          "execution_count": 45
        }
      ]
    },
    {
      "cell_type": "code",
      "source": [
        "right = df1.merge(df2, on=\"Name\", how=\"right\")\n",
        "right"
      ],
      "metadata": {
        "colab": {
          "base_uri": "https://localhost:8080/",
          "height": 175
        },
        "id": "ajLfvdtaiFHQ",
        "outputId": "181c8659-cf59-4d2e-8794-04d060adfbfa"
      },
      "execution_count": null,
      "outputs": [
        {
          "output_type": "execute_result",
          "data": {
            "text/plain": [
              "         Name  Age           City  Salary State\n",
              "0    John Doe   30       New York  100000    NY\n",
              "1    Jane Doe   25    Los Angeles   80000    CA\n",
              "2  John Smith   40        Chicago  120000    IL\n",
              "3  Jane Smith   35  San Francisco   90000    CA"
            ],
            "text/html": [
              "\n",
              "\n",
              "  <div id=\"df-a94f5933-406f-4faf-a8e9-bfed72dbbe5d\">\n",
              "    <div class=\"colab-df-container\">\n",
              "      <div>\n",
              "<style scoped>\n",
              "    .dataframe tbody tr th:only-of-type {\n",
              "        vertical-align: middle;\n",
              "    }\n",
              "\n",
              "    .dataframe tbody tr th {\n",
              "        vertical-align: top;\n",
              "    }\n",
              "\n",
              "    .dataframe thead th {\n",
              "        text-align: right;\n",
              "    }\n",
              "</style>\n",
              "<table border=\"1\" class=\"dataframe\">\n",
              "  <thead>\n",
              "    <tr style=\"text-align: right;\">\n",
              "      <th></th>\n",
              "      <th>Name</th>\n",
              "      <th>Age</th>\n",
              "      <th>City</th>\n",
              "      <th>Salary</th>\n",
              "      <th>State</th>\n",
              "    </tr>\n",
              "  </thead>\n",
              "  <tbody>\n",
              "    <tr>\n",
              "      <th>0</th>\n",
              "      <td>John Doe</td>\n",
              "      <td>30</td>\n",
              "      <td>New York</td>\n",
              "      <td>100000</td>\n",
              "      <td>NY</td>\n",
              "    </tr>\n",
              "    <tr>\n",
              "      <th>1</th>\n",
              "      <td>Jane Doe</td>\n",
              "      <td>25</td>\n",
              "      <td>Los Angeles</td>\n",
              "      <td>80000</td>\n",
              "      <td>CA</td>\n",
              "    </tr>\n",
              "    <tr>\n",
              "      <th>2</th>\n",
              "      <td>John Smith</td>\n",
              "      <td>40</td>\n",
              "      <td>Chicago</td>\n",
              "      <td>120000</td>\n",
              "      <td>IL</td>\n",
              "    </tr>\n",
              "    <tr>\n",
              "      <th>3</th>\n",
              "      <td>Jane Smith</td>\n",
              "      <td>35</td>\n",
              "      <td>San Francisco</td>\n",
              "      <td>90000</td>\n",
              "      <td>CA</td>\n",
              "    </tr>\n",
              "  </tbody>\n",
              "</table>\n",
              "</div>\n",
              "      <button class=\"colab-df-convert\" onclick=\"convertToInteractive('df-a94f5933-406f-4faf-a8e9-bfed72dbbe5d')\"\n",
              "              title=\"Convert this dataframe to an interactive table.\"\n",
              "              style=\"display:none;\">\n",
              "\n",
              "  <svg xmlns=\"http://www.w3.org/2000/svg\" height=\"24px\"viewBox=\"0 0 24 24\"\n",
              "       width=\"24px\">\n",
              "    <path d=\"M0 0h24v24H0V0z\" fill=\"none\"/>\n",
              "    <path d=\"M18.56 5.44l.94 2.06.94-2.06 2.06-.94-2.06-.94-.94-2.06-.94 2.06-2.06.94zm-11 1L8.5 8.5l.94-2.06 2.06-.94-2.06-.94L8.5 2.5l-.94 2.06-2.06.94zm10 10l.94 2.06.94-2.06 2.06-.94-2.06-.94-.94-2.06-.94 2.06-2.06.94z\"/><path d=\"M17.41 7.96l-1.37-1.37c-.4-.4-.92-.59-1.43-.59-.52 0-1.04.2-1.43.59L10.3 9.45l-7.72 7.72c-.78.78-.78 2.05 0 2.83L4 21.41c.39.39.9.59 1.41.59.51 0 1.02-.2 1.41-.59l7.78-7.78 2.81-2.81c.8-.78.8-2.07 0-2.86zM5.41 20L4 18.59l7.72-7.72 1.47 1.35L5.41 20z\"/>\n",
              "  </svg>\n",
              "      </button>\n",
              "\n",
              "\n",
              "\n",
              "    <div id=\"df-eb16512b-0287-483b-9336-1699e585ce9c\">\n",
              "      <button class=\"colab-df-quickchart\" onclick=\"quickchart('df-eb16512b-0287-483b-9336-1699e585ce9c')\"\n",
              "              title=\"Suggest charts.\"\n",
              "              style=\"display:none;\">\n",
              "\n",
              "<svg xmlns=\"http://www.w3.org/2000/svg\" height=\"24px\"viewBox=\"0 0 24 24\"\n",
              "     width=\"24px\">\n",
              "    <g>\n",
              "        <path d=\"M19 3H5c-1.1 0-2 .9-2 2v14c0 1.1.9 2 2 2h14c1.1 0 2-.9 2-2V5c0-1.1-.9-2-2-2zM9 17H7v-7h2v7zm4 0h-2V7h2v10zm4 0h-2v-4h2v4z\"/>\n",
              "    </g>\n",
              "</svg>\n",
              "      </button>\n",
              "    </div>\n",
              "\n",
              "<style>\n",
              "  .colab-df-quickchart {\n",
              "    background-color: #E8F0FE;\n",
              "    border: none;\n",
              "    border-radius: 50%;\n",
              "    cursor: pointer;\n",
              "    display: none;\n",
              "    fill: #1967D2;\n",
              "    height: 32px;\n",
              "    padding: 0 0 0 0;\n",
              "    width: 32px;\n",
              "  }\n",
              "\n",
              "  .colab-df-quickchart:hover {\n",
              "    background-color: #E2EBFA;\n",
              "    box-shadow: 0px 1px 2px rgba(60, 64, 67, 0.3), 0px 1px 3px 1px rgba(60, 64, 67, 0.15);\n",
              "    fill: #174EA6;\n",
              "  }\n",
              "\n",
              "  [theme=dark] .colab-df-quickchart {\n",
              "    background-color: #3B4455;\n",
              "    fill: #D2E3FC;\n",
              "  }\n",
              "\n",
              "  [theme=dark] .colab-df-quickchart:hover {\n",
              "    background-color: #434B5C;\n",
              "    box-shadow: 0px 1px 3px 1px rgba(0, 0, 0, 0.15);\n",
              "    filter: drop-shadow(0px 1px 2px rgba(0, 0, 0, 0.3));\n",
              "    fill: #FFFFFF;\n",
              "  }\n",
              "</style>\n",
              "\n",
              "    <script>\n",
              "      async function quickchart(key) {\n",
              "        const containerElement = document.querySelector('#' + key);\n",
              "        const charts = await google.colab.kernel.invokeFunction(\n",
              "            'suggestCharts', [key], {});\n",
              "      }\n",
              "    </script>\n",
              "\n",
              "      <script>\n",
              "\n",
              "function displayQuickchartButton(domScope) {\n",
              "  let quickchartButtonEl =\n",
              "    domScope.querySelector('#df-eb16512b-0287-483b-9336-1699e585ce9c button.colab-df-quickchart');\n",
              "  quickchartButtonEl.style.display =\n",
              "    google.colab.kernel.accessAllowed ? 'block' : 'none';\n",
              "}\n",
              "\n",
              "        displayQuickchartButton(document);\n",
              "      </script>\n",
              "      <style>\n",
              "    .colab-df-container {\n",
              "      display:flex;\n",
              "      flex-wrap:wrap;\n",
              "      gap: 12px;\n",
              "    }\n",
              "\n",
              "    .colab-df-convert {\n",
              "      background-color: #E8F0FE;\n",
              "      border: none;\n",
              "      border-radius: 50%;\n",
              "      cursor: pointer;\n",
              "      display: none;\n",
              "      fill: #1967D2;\n",
              "      height: 32px;\n",
              "      padding: 0 0 0 0;\n",
              "      width: 32px;\n",
              "    }\n",
              "\n",
              "    .colab-df-convert:hover {\n",
              "      background-color: #E2EBFA;\n",
              "      box-shadow: 0px 1px 2px rgba(60, 64, 67, 0.3), 0px 1px 3px 1px rgba(60, 64, 67, 0.15);\n",
              "      fill: #174EA6;\n",
              "    }\n",
              "\n",
              "    [theme=dark] .colab-df-convert {\n",
              "      background-color: #3B4455;\n",
              "      fill: #D2E3FC;\n",
              "    }\n",
              "\n",
              "    [theme=dark] .colab-df-convert:hover {\n",
              "      background-color: #434B5C;\n",
              "      box-shadow: 0px 1px 3px 1px rgba(0, 0, 0, 0.15);\n",
              "      filter: drop-shadow(0px 1px 2px rgba(0, 0, 0, 0.3));\n",
              "      fill: #FFFFFF;\n",
              "    }\n",
              "  </style>\n",
              "\n",
              "      <script>\n",
              "        const buttonEl =\n",
              "          document.querySelector('#df-a94f5933-406f-4faf-a8e9-bfed72dbbe5d button.colab-df-convert');\n",
              "        buttonEl.style.display =\n",
              "          google.colab.kernel.accessAllowed ? 'block' : 'none';\n",
              "\n",
              "        async function convertToInteractive(key) {\n",
              "          const element = document.querySelector('#df-a94f5933-406f-4faf-a8e9-bfed72dbbe5d');\n",
              "          const dataTable =\n",
              "            await google.colab.kernel.invokeFunction('convertToInteractive',\n",
              "                                                     [key], {});\n",
              "          if (!dataTable) return;\n",
              "\n",
              "          const docLinkHtml = 'Like what you see? Visit the ' +\n",
              "            '<a target=\"_blank\" href=https://colab.research.google.com/notebooks/data_table.ipynb>data table notebook</a>'\n",
              "            + ' to learn more about interactive tables.';\n",
              "          element.innerHTML = '';\n",
              "          dataTable['output_type'] = 'display_data';\n",
              "          await google.colab.output.renderOutput(dataTable, element);\n",
              "          const docLink = document.createElement('div');\n",
              "          docLink.innerHTML = docLinkHtml;\n",
              "          element.appendChild(docLink);\n",
              "        }\n",
              "      </script>\n",
              "    </div>\n",
              "  </div>\n"
            ]
          },
          "metadata": {},
          "execution_count": 38
        }
      ]
    },
    {
      "cell_type": "code",
      "source": [
        "outer = df1.merge(df2, on=\"Name\", how=\"outer\")\n",
        "outer"
      ],
      "metadata": {
        "colab": {
          "base_uri": "https://localhost:8080/",
          "height": 175
        },
        "id": "sXjeoIGSiWuZ",
        "outputId": "0d6bc520-1582-42cf-984b-42071d439d13"
      },
      "execution_count": null,
      "outputs": [
        {
          "output_type": "execute_result",
          "data": {
            "text/plain": [
              "         Name  Age           City  Salary State\n",
              "0    John Doe   30       New York  100000    NY\n",
              "1    Jane Doe   25    Los Angeles   80000    CA\n",
              "2  John Smith   40        Chicago  120000    IL\n",
              "3  Jane Smith   35  San Francisco   90000    CA"
            ],
            "text/html": [
              "\n",
              "\n",
              "  <div id=\"df-40445091-bbd3-4f51-b59b-5a5c0f30125d\">\n",
              "    <div class=\"colab-df-container\">\n",
              "      <div>\n",
              "<style scoped>\n",
              "    .dataframe tbody tr th:only-of-type {\n",
              "        vertical-align: middle;\n",
              "    }\n",
              "\n",
              "    .dataframe tbody tr th {\n",
              "        vertical-align: top;\n",
              "    }\n",
              "\n",
              "    .dataframe thead th {\n",
              "        text-align: right;\n",
              "    }\n",
              "</style>\n",
              "<table border=\"1\" class=\"dataframe\">\n",
              "  <thead>\n",
              "    <tr style=\"text-align: right;\">\n",
              "      <th></th>\n",
              "      <th>Name</th>\n",
              "      <th>Age</th>\n",
              "      <th>City</th>\n",
              "      <th>Salary</th>\n",
              "      <th>State</th>\n",
              "    </tr>\n",
              "  </thead>\n",
              "  <tbody>\n",
              "    <tr>\n",
              "      <th>0</th>\n",
              "      <td>John Doe</td>\n",
              "      <td>30</td>\n",
              "      <td>New York</td>\n",
              "      <td>100000</td>\n",
              "      <td>NY</td>\n",
              "    </tr>\n",
              "    <tr>\n",
              "      <th>1</th>\n",
              "      <td>Jane Doe</td>\n",
              "      <td>25</td>\n",
              "      <td>Los Angeles</td>\n",
              "      <td>80000</td>\n",
              "      <td>CA</td>\n",
              "    </tr>\n",
              "    <tr>\n",
              "      <th>2</th>\n",
              "      <td>John Smith</td>\n",
              "      <td>40</td>\n",
              "      <td>Chicago</td>\n",
              "      <td>120000</td>\n",
              "      <td>IL</td>\n",
              "    </tr>\n",
              "    <tr>\n",
              "      <th>3</th>\n",
              "      <td>Jane Smith</td>\n",
              "      <td>35</td>\n",
              "      <td>San Francisco</td>\n",
              "      <td>90000</td>\n",
              "      <td>CA</td>\n",
              "    </tr>\n",
              "  </tbody>\n",
              "</table>\n",
              "</div>\n",
              "      <button class=\"colab-df-convert\" onclick=\"convertToInteractive('df-40445091-bbd3-4f51-b59b-5a5c0f30125d')\"\n",
              "              title=\"Convert this dataframe to an interactive table.\"\n",
              "              style=\"display:none;\">\n",
              "\n",
              "  <svg xmlns=\"http://www.w3.org/2000/svg\" height=\"24px\"viewBox=\"0 0 24 24\"\n",
              "       width=\"24px\">\n",
              "    <path d=\"M0 0h24v24H0V0z\" fill=\"none\"/>\n",
              "    <path d=\"M18.56 5.44l.94 2.06.94-2.06 2.06-.94-2.06-.94-.94-2.06-.94 2.06-2.06.94zm-11 1L8.5 8.5l.94-2.06 2.06-.94-2.06-.94L8.5 2.5l-.94 2.06-2.06.94zm10 10l.94 2.06.94-2.06 2.06-.94-2.06-.94-.94-2.06-.94 2.06-2.06.94z\"/><path d=\"M17.41 7.96l-1.37-1.37c-.4-.4-.92-.59-1.43-.59-.52 0-1.04.2-1.43.59L10.3 9.45l-7.72 7.72c-.78.78-.78 2.05 0 2.83L4 21.41c.39.39.9.59 1.41.59.51 0 1.02-.2 1.41-.59l7.78-7.78 2.81-2.81c.8-.78.8-2.07 0-2.86zM5.41 20L4 18.59l7.72-7.72 1.47 1.35L5.41 20z\"/>\n",
              "  </svg>\n",
              "      </button>\n",
              "\n",
              "\n",
              "\n",
              "    <div id=\"df-e5456b18-fb98-4e95-982a-8f3ad4518af4\">\n",
              "      <button class=\"colab-df-quickchart\" onclick=\"quickchart('df-e5456b18-fb98-4e95-982a-8f3ad4518af4')\"\n",
              "              title=\"Suggest charts.\"\n",
              "              style=\"display:none;\">\n",
              "\n",
              "<svg xmlns=\"http://www.w3.org/2000/svg\" height=\"24px\"viewBox=\"0 0 24 24\"\n",
              "     width=\"24px\">\n",
              "    <g>\n",
              "        <path d=\"M19 3H5c-1.1 0-2 .9-2 2v14c0 1.1.9 2 2 2h14c1.1 0 2-.9 2-2V5c0-1.1-.9-2-2-2zM9 17H7v-7h2v7zm4 0h-2V7h2v10zm4 0h-2v-4h2v4z\"/>\n",
              "    </g>\n",
              "</svg>\n",
              "      </button>\n",
              "    </div>\n",
              "\n",
              "<style>\n",
              "  .colab-df-quickchart {\n",
              "    background-color: #E8F0FE;\n",
              "    border: none;\n",
              "    border-radius: 50%;\n",
              "    cursor: pointer;\n",
              "    display: none;\n",
              "    fill: #1967D2;\n",
              "    height: 32px;\n",
              "    padding: 0 0 0 0;\n",
              "    width: 32px;\n",
              "  }\n",
              "\n",
              "  .colab-df-quickchart:hover {\n",
              "    background-color: #E2EBFA;\n",
              "    box-shadow: 0px 1px 2px rgba(60, 64, 67, 0.3), 0px 1px 3px 1px rgba(60, 64, 67, 0.15);\n",
              "    fill: #174EA6;\n",
              "  }\n",
              "\n",
              "  [theme=dark] .colab-df-quickchart {\n",
              "    background-color: #3B4455;\n",
              "    fill: #D2E3FC;\n",
              "  }\n",
              "\n",
              "  [theme=dark] .colab-df-quickchart:hover {\n",
              "    background-color: #434B5C;\n",
              "    box-shadow: 0px 1px 3px 1px rgba(0, 0, 0, 0.15);\n",
              "    filter: drop-shadow(0px 1px 2px rgba(0, 0, 0, 0.3));\n",
              "    fill: #FFFFFF;\n",
              "  }\n",
              "</style>\n",
              "\n",
              "    <script>\n",
              "      async function quickchart(key) {\n",
              "        const containerElement = document.querySelector('#' + key);\n",
              "        const charts = await google.colab.kernel.invokeFunction(\n",
              "            'suggestCharts', [key], {});\n",
              "      }\n",
              "    </script>\n",
              "\n",
              "      <script>\n",
              "\n",
              "function displayQuickchartButton(domScope) {\n",
              "  let quickchartButtonEl =\n",
              "    domScope.querySelector('#df-e5456b18-fb98-4e95-982a-8f3ad4518af4 button.colab-df-quickchart');\n",
              "  quickchartButtonEl.style.display =\n",
              "    google.colab.kernel.accessAllowed ? 'block' : 'none';\n",
              "}\n",
              "\n",
              "        displayQuickchartButton(document);\n",
              "      </script>\n",
              "      <style>\n",
              "    .colab-df-container {\n",
              "      display:flex;\n",
              "      flex-wrap:wrap;\n",
              "      gap: 12px;\n",
              "    }\n",
              "\n",
              "    .colab-df-convert {\n",
              "      background-color: #E8F0FE;\n",
              "      border: none;\n",
              "      border-radius: 50%;\n",
              "      cursor: pointer;\n",
              "      display: none;\n",
              "      fill: #1967D2;\n",
              "      height: 32px;\n",
              "      padding: 0 0 0 0;\n",
              "      width: 32px;\n",
              "    }\n",
              "\n",
              "    .colab-df-convert:hover {\n",
              "      background-color: #E2EBFA;\n",
              "      box-shadow: 0px 1px 2px rgba(60, 64, 67, 0.3), 0px 1px 3px 1px rgba(60, 64, 67, 0.15);\n",
              "      fill: #174EA6;\n",
              "    }\n",
              "\n",
              "    [theme=dark] .colab-df-convert {\n",
              "      background-color: #3B4455;\n",
              "      fill: #D2E3FC;\n",
              "    }\n",
              "\n",
              "    [theme=dark] .colab-df-convert:hover {\n",
              "      background-color: #434B5C;\n",
              "      box-shadow: 0px 1px 3px 1px rgba(0, 0, 0, 0.15);\n",
              "      filter: drop-shadow(0px 1px 2px rgba(0, 0, 0, 0.3));\n",
              "      fill: #FFFFFF;\n",
              "    }\n",
              "  </style>\n",
              "\n",
              "      <script>\n",
              "        const buttonEl =\n",
              "          document.querySelector('#df-40445091-bbd3-4f51-b59b-5a5c0f30125d button.colab-df-convert');\n",
              "        buttonEl.style.display =\n",
              "          google.colab.kernel.accessAllowed ? 'block' : 'none';\n",
              "\n",
              "        async function convertToInteractive(key) {\n",
              "          const element = document.querySelector('#df-40445091-bbd3-4f51-b59b-5a5c0f30125d');\n",
              "          const dataTable =\n",
              "            await google.colab.kernel.invokeFunction('convertToInteractive',\n",
              "                                                     [key], {});\n",
              "          if (!dataTable) return;\n",
              "\n",
              "          const docLinkHtml = 'Like what you see? Visit the ' +\n",
              "            '<a target=\"_blank\" href=https://colab.research.google.com/notebooks/data_table.ipynb>data table notebook</a>'\n",
              "            + ' to learn more about interactive tables.';\n",
              "          element.innerHTML = '';\n",
              "          dataTable['output_type'] = 'display_data';\n",
              "          await google.colab.output.renderOutput(dataTable, element);\n",
              "          const docLink = document.createElement('div');\n",
              "          docLink.innerHTML = docLinkHtml;\n",
              "          element.appendChild(docLink);\n",
              "        }\n",
              "      </script>\n",
              "    </div>\n",
              "  </div>\n"
            ]
          },
          "metadata": {},
          "execution_count": 39
        }
      ]
    },
    {
      "cell_type": "markdown",
      "source": [
        "# **Groupby**\n"
      ],
      "metadata": {
        "id": "hDEL1gItk7R4"
      }
    },
    {
      "cell_type": "markdown",
      "source": [
        "The groupby() operation in Pandas is used to split the DataFrame into groups based on the values in a particular column. The groupby() operation can then be used to perform operations on the groups, such as aggregations."
      ],
      "metadata": {
        "id": "8IXh4tEeGGgF"
      }
    },
    {
      "cell_type": "code",
      "source": [
        "#Syntax\n",
        "df.groupby(by=column_name)"
      ],
      "metadata": {
        "id": "8BDPKqu9leKc"
      },
      "execution_count": null,
      "outputs": []
    },
    {
      "cell_type": "code",
      "source": [
        "import pandas as pd\n",
        "\n",
        "# Create a DataFrame\n",
        "df = pd.DataFrame({\n",
        "    \"Name\": [\"John Doe\", \"Jane Doe\", \"John Smith\", \"Jane Smith\"],\n",
        "    \"Age\": [30, 25, 40, 35],\n",
        "    \"City\": [\"New York\", \"Los Angeles\", \"Chicago\", \"San Francisco\"]\n",
        "})"
      ],
      "metadata": {
        "id": "cXp5acn6l1KL"
      },
      "execution_count": null,
      "outputs": []
    },
    {
      "cell_type": "code",
      "source": [
        "# Group the DataFrame by the \"City\" column\n",
        "grouped_df = df.groupby(\"City\")\n",
        "\n",
        "# Print the grouped DataFrame\n",
        "print(grouped_df)"
      ],
      "metadata": {
        "colab": {
          "base_uri": "https://localhost:8080/"
        },
        "id": "hQoGL9ZI0cCx",
        "outputId": "da65694b-d9d4-450b-cd65-3ecf70830ec0"
      },
      "execution_count": null,
      "outputs": [
        {
          "output_type": "stream",
          "name": "stdout",
          "text": [
            "<pandas.core.groupby.generic.DataFrameGroupBy object at 0x78faad35af20>\n"
          ]
        }
      ]
    },
    {
      "cell_type": "markdown",
      "source": [
        "The groupby() operation has created a new DataFrame with the City column as the index. The values in the DataFrame are the number of rows in each group.\n",
        "\n",
        "The groupby() operation can also be used to perform aggregations on the groups. For example, the following code calculates the average age for each city:"
      ],
      "metadata": {
        "id": "ViCv9ukC0mUx"
      }
    },
    {
      "cell_type": "code",
      "source": [
        "grouped_df = df.groupby(\"City\")[\"Age\"].mean()\n",
        "\n",
        "# Print the grouped DataFrame\n",
        "print(grouped_df)"
      ],
      "metadata": {
        "colab": {
          "base_uri": "https://localhost:8080/"
        },
        "id": "9qJnz4Qt0ncs",
        "outputId": "f2da962a-2d34-4837-beab-e61270543263"
      },
      "execution_count": null,
      "outputs": [
        {
          "output_type": "stream",
          "name": "stdout",
          "text": [
            "City\n",
            "Chicago          40.0\n",
            "Los Angeles      25.0\n",
            "New York         30.0\n",
            "San Francisco    35.0\n",
            "Name: Age, dtype: float64\n"
          ]
        }
      ]
    },
    {
      "cell_type": "code",
      "source": [
        "grouped_df = df.groupby(\"City\")[\"Age\"].sum()\n",
        "\n",
        "# Print the grouped DataFrame\n",
        "print(grouped_df)"
      ],
      "metadata": {
        "id": "QGD2ZTsK0yDK",
        "colab": {
          "base_uri": "https://localhost:8080/"
        },
        "outputId": "a7fd32f4-2528-4b0e-ee67-a4b9120d9a51"
      },
      "execution_count": null,
      "outputs": [
        {
          "output_type": "stream",
          "name": "stdout",
          "text": [
            "City\n",
            "Chicago          40\n",
            "Los Angeles      25\n",
            "New York         30\n",
            "San Francisco    35\n",
            "Name: Age, dtype: int64\n"
          ]
        }
      ]
    },
    {
      "cell_type": "markdown",
      "source": [
        "# **Pivot table**\n"
      ],
      "metadata": {
        "id": "heTLzOt02CoS"
      }
    },
    {
      "cell_type": "markdown",
      "source": [
        " Pivot table in Pandas is a data summarization tool that allows you to analyze data by pivoting it on one or more columns. This means that you can summarize the data by grouping it by the values in one or more columns, and then calculate summary statistics for each group.\n",
        "\n",
        "\n",
        "*   **syntax:**\n",
        "*    **df.pivot_table(values=column_name, index=column_name, aggfunc=function)**\n"
      ],
      "metadata": {
        "id": "CjK-v3Lc2XSW"
      }
    },
    {
      "cell_type": "code",
      "source": [
        "import pandas as pd\n",
        "import numpy as np\n",
        "\n",
        "# Create a DataFrame\n",
        "df = pd.DataFrame({\n",
        "    \"Name\": [\"John Doe\", \"Jane Doe\", \"John Smith\", \"Jane Smith\"],\n",
        "    \"Age\": [30, 25, 40, 35],\n",
        "    \"City\": [\"New York\", \"Los Angeles\", \"Chicago\", \"San Francisco\"]\n",
        "})\n",
        "\n",
        "# Create a pivot table by city\n",
        "pivot_table = df.pivot_table(values=\"Age\", index=\"City\")\n",
        "\n",
        "# Print the pivot table\n",
        "print(pivot_table)"
      ],
      "metadata": {
        "colab": {
          "base_uri": "https://localhost:8080/"
        },
        "id": "U5q3eWmx2PI_",
        "outputId": "b21aaf30-f565-4507-d22f-170dbe7ecc6a"
      },
      "execution_count": null,
      "outputs": [
        {
          "output_type": "stream",
          "name": "stdout",
          "text": [
            "               Age\n",
            "City              \n",
            "Chicago         40\n",
            "Los Angeles     25\n",
            "New York        30\n",
            "San Francisco   35\n"
          ]
        }
      ]
    },
    {
      "cell_type": "markdown",
      "source": [
        "\n",
        "\n",
        "*   The pivot table has created a new DataFrame with the City column as the index. The values in the DataFrame are the average age for each city.\n",
        "*   The pivot_table() function is a powerful tool for summarizing data in Pandas. It is a very versatile function that can be used to perform a variety of tasks.\n",
        "\n",
        "\n"
      ],
      "metadata": {
        "id": "vQ0dZUUA6XQf"
      }
    },
    {
      "cell_type": "code",
      "source": [],
      "metadata": {
        "id": "15FNs8WC3Wbz"
      },
      "execution_count": null,
      "outputs": []
    },
    {
      "cell_type": "markdown",
      "source": [
        "# **Date and Time Functionality**"
      ],
      "metadata": {
        "id": "ngPcX-Up7ps0"
      }
    },
    {
      "cell_type": "markdown",
      "source": [
        "\n",
        "Pandas has a number of date/time functionality that can be used to work with dates and times in DataFrames.\n",
        "\n",
        "Some of the most common date/time functionality in Pandas includes:\n",
        "\n",
        "*   Converting strings to datetime objects: Pandas can be used to convert strings that represent dates and times to datetime objects. This can be done using the to_datetime() function.\n",
        "*   Extracting date and time components: Pandas can be used to extract the date and time components from datetime objects. This can be done using the dt attribute of datetime objects.Refer [Date and Time](https://pandas.pydata.org/docs/user_guide/timeseries.html)\n",
        "\n"
      ],
      "metadata": {
        "id": "dYB9UvHe8Hxs"
      }
    },
    {
      "cell_type": "code",
      "source": [
        "import pandas as pd\n",
        "\n",
        "# Create a string that represents a date\n",
        "date_str = \"2023-03-08\"\n",
        "\n",
        "# Convert the string to a datetime object\n",
        "date = pd.to_datetime(date_str)\n",
        "\n",
        "# Print the datetime object\n",
        "print(date)"
      ],
      "metadata": {
        "colab": {
          "base_uri": "https://localhost:8080/"
        },
        "id": "KOdVTNze79M_",
        "outputId": "e17fa2e9-b3af-4225-88c1-97cfbc0afca6"
      },
      "execution_count": null,
      "outputs": [
        {
          "output_type": "stream",
          "name": "stdout",
          "text": [
            "2023-03-08 00:00:00\n"
          ]
        }
      ]
    },
    {
      "cell_type": "code",
      "source": [
        "date = pd.to_datetime(\"2023-03-08\")\n",
        "\n",
        "# Extract the date component\n",
        "date_only = date.date\n",
        "\n",
        "# Extract the time component\n",
        "time_only = date.time\n",
        "\n",
        "# Print the date and time components\n",
        "print(date_only)\n",
        "print(time_only)"
      ],
      "metadata": {
        "colab": {
          "base_uri": "https://localhost:8080/"
        },
        "id": "UbCOKO958e-b",
        "outputId": "88cba345-dace-4b1d-c8a4-ec0a552868ac"
      },
      "execution_count": null,
      "outputs": [
        {
          "output_type": "stream",
          "name": "stdout",
          "text": [
            "<built-in method date of Timestamp object at 0x78faaa54b640>\n",
            "<built-in method time of Timestamp object at 0x78faaa54b640>\n"
          ]
        }
      ]
    },
    {
      "cell_type": "code",
      "source": [
        "# Format the date in a different way\n",
        "formatted_date = date.strftime(\"%B %d, %Y\")\n",
        "\n",
        "# Print the formatted date\n",
        "print(formatted_date)"
      ],
      "metadata": {
        "colab": {
          "base_uri": "https://localhost:8080/"
        },
        "id": "JnATAGWk849l",
        "outputId": "908576f5-fafc-4117-fdc7-bceffe7009bd"
      },
      "execution_count": null,
      "outputs": [
        {
          "output_type": "stream",
          "name": "stdout",
          "text": [
            "March 08, 2023\n"
          ]
        }
      ]
    },
    {
      "cell_type": "code",
      "source": [
        "# Create two datetime objects\n",
        "date_1 = pd.to_datetime(\"2023-03-08\")\n",
        "date_2 = pd.to_datetime(\"2023-03-15\")\n",
        "\n",
        "# Calculate the timedelta between the two datetime objects\n",
        "timedelta = date_2 - date_1\n",
        "\n",
        "# Print the timedelta\n",
        "print(timedelta)"
      ],
      "metadata": {
        "colab": {
          "base_uri": "https://localhost:8080/"
        },
        "id": "8cTOvGCh945N",
        "outputId": "2a89df24-536c-4d24-f271-b3c9fa51fb57"
      },
      "execution_count": null,
      "outputs": [
        {
          "output_type": "stream",
          "name": "stdout",
          "text": [
            "7 days 00:00:00\n"
          ]
        }
      ]
    },
    {
      "cell_type": "code",
      "source": [],
      "metadata": {
        "id": "_Q4pmrrM-hom"
      },
      "execution_count": null,
      "outputs": []
    },
    {
      "cell_type": "markdown",
      "source": [
        "# **Manipulating a DataFrame**"
      ],
      "metadata": {
        "id": "TcKkELDZ--01"
      }
    },
    {
      "cell_type": "markdown",
      "source": [
        "Manipulating a DataFrame in pandas involves performing various operations to modify, filter, add, remove, and transform the data within the DataFrame. Here are some common DataFrame manipulation techniques in pandas:\n",
        "\n",
        "*   Selecting Columns:\n",
        "\n",
        "*   Filtering Rows:\n",
        "*   Adding and Modifying Columns:\n",
        "*   Grouping and Aggregating Data:\n",
        "*   Sorting Data:\n",
        "*   Handling Missing Data:\n",
        "*   Merging and Concatenating DataFrames:\n",
        "*   Pivoting and Reshaping DataFrames:\n",
        "\n"
      ],
      "metadata": {
        "id": "Du63zMZP_B7F"
      }
    },
    {
      "cell_type": "markdown",
      "source": [
        "### **Selecting Columns:**"
      ],
      "metadata": {
        "id": "q4xpnkAoAWqa"
      }
    },
    {
      "cell_type": "code",
      "source": [
        "# Selecting a single column\n",
        "single_column = df['Column_Name']\n",
        "\n",
        "# Selecting multiple columns\n",
        "multiple_columns = df[['Column1', 'Column2']]"
      ],
      "metadata": {
        "id": "kSpzA5kg_A5U"
      },
      "execution_count": null,
      "outputs": []
    },
    {
      "cell_type": "code",
      "source": [
        "import pandas as pd\n",
        "# Creating a sample DataFrame\n",
        "data = {\n",
        "    'Name': ['Alice', 'Bob', 'Charlie', 'David'],\n",
        "    'Age': [25, 30, 35, 28],\n",
        "    'City': ['New York', 'San Francisco', 'Los Angeles', 'Chicago'],\n",
        "    'Salary': [50000, 60000, 70000, 55000]\n",
        "}\n",
        "\n",
        "df = pd.DataFrame(data)"
      ],
      "metadata": {
        "id": "4yOWNDs3EeY6"
      },
      "execution_count": null,
      "outputs": []
    },
    {
      "cell_type": "code",
      "source": [
        "selected_columns = df[['Name', 'City']]\n",
        "print(\"Selected Columns:\")\n",
        "print(selected_columns)\n",
        "print()"
      ],
      "metadata": {
        "colab": {
          "base_uri": "https://localhost:8080/"
        },
        "id": "NbPHXh8MEzNU",
        "outputId": "f4e0bd6d-ea72-49c5-ddc0-ff71a9936628"
      },
      "execution_count": null,
      "outputs": [
        {
          "output_type": "stream",
          "name": "stdout",
          "text": [
            "Selected Columns:\n",
            "      Name           City\n",
            "0    Alice       New York\n",
            "1      Bob  San Francisco\n",
            "2  Charlie    Los Angeles\n",
            "3    David        Chicago\n",
            "\n"
          ]
        }
      ]
    },
    {
      "cell_type": "markdown",
      "source": [
        "### **Filtering Rows:**"
      ],
      "metadata": {
        "id": "btWlbonrAcY6"
      }
    },
    {
      "cell_type": "code",
      "source": [
        "# Filtering rows based on a condition\n",
        "filtered_data = df[df['Age'] > 30]\n",
        "filtered_data"
      ],
      "metadata": {
        "colab": {
          "base_uri": "https://localhost:8080/",
          "height": 112
        },
        "id": "yCECqyQT_97F",
        "outputId": "58e95d30-e1cc-4340-e479-13ce02c40a65"
      },
      "execution_count": null,
      "outputs": [
        {
          "output_type": "execute_result",
          "data": {
            "text/plain": [
              "         Name  Age           City\n",
              "2  John Smith   40        Chicago\n",
              "3  Jane Smith   35  San Francisco"
            ],
            "text/html": [
              "\n",
              "\n",
              "  <div id=\"df-38874ea0-0dee-492f-8c00-7b850efa1bcc\">\n",
              "    <div class=\"colab-df-container\">\n",
              "      <div>\n",
              "<style scoped>\n",
              "    .dataframe tbody tr th:only-of-type {\n",
              "        vertical-align: middle;\n",
              "    }\n",
              "\n",
              "    .dataframe tbody tr th {\n",
              "        vertical-align: top;\n",
              "    }\n",
              "\n",
              "    .dataframe thead th {\n",
              "        text-align: right;\n",
              "    }\n",
              "</style>\n",
              "<table border=\"1\" class=\"dataframe\">\n",
              "  <thead>\n",
              "    <tr style=\"text-align: right;\">\n",
              "      <th></th>\n",
              "      <th>Name</th>\n",
              "      <th>Age</th>\n",
              "      <th>City</th>\n",
              "    </tr>\n",
              "  </thead>\n",
              "  <tbody>\n",
              "    <tr>\n",
              "      <th>2</th>\n",
              "      <td>John Smith</td>\n",
              "      <td>40</td>\n",
              "      <td>Chicago</td>\n",
              "    </tr>\n",
              "    <tr>\n",
              "      <th>3</th>\n",
              "      <td>Jane Smith</td>\n",
              "      <td>35</td>\n",
              "      <td>San Francisco</td>\n",
              "    </tr>\n",
              "  </tbody>\n",
              "</table>\n",
              "</div>\n",
              "      <button class=\"colab-df-convert\" onclick=\"convertToInteractive('df-38874ea0-0dee-492f-8c00-7b850efa1bcc')\"\n",
              "              title=\"Convert this dataframe to an interactive table.\"\n",
              "              style=\"display:none;\">\n",
              "\n",
              "  <svg xmlns=\"http://www.w3.org/2000/svg\" height=\"24px\"viewBox=\"0 0 24 24\"\n",
              "       width=\"24px\">\n",
              "    <path d=\"M0 0h24v24H0V0z\" fill=\"none\"/>\n",
              "    <path d=\"M18.56 5.44l.94 2.06.94-2.06 2.06-.94-2.06-.94-.94-2.06-.94 2.06-2.06.94zm-11 1L8.5 8.5l.94-2.06 2.06-.94-2.06-.94L8.5 2.5l-.94 2.06-2.06.94zm10 10l.94 2.06.94-2.06 2.06-.94-2.06-.94-.94-2.06-.94 2.06-2.06.94z\"/><path d=\"M17.41 7.96l-1.37-1.37c-.4-.4-.92-.59-1.43-.59-.52 0-1.04.2-1.43.59L10.3 9.45l-7.72 7.72c-.78.78-.78 2.05 0 2.83L4 21.41c.39.39.9.59 1.41.59.51 0 1.02-.2 1.41-.59l7.78-7.78 2.81-2.81c.8-.78.8-2.07 0-2.86zM5.41 20L4 18.59l7.72-7.72 1.47 1.35L5.41 20z\"/>\n",
              "  </svg>\n",
              "      </button>\n",
              "\n",
              "\n",
              "\n",
              "    <div id=\"df-91d5d75e-2d8b-4366-93f6-c8437c666ef6\">\n",
              "      <button class=\"colab-df-quickchart\" onclick=\"quickchart('df-91d5d75e-2d8b-4366-93f6-c8437c666ef6')\"\n",
              "              title=\"Suggest charts.\"\n",
              "              style=\"display:none;\">\n",
              "\n",
              "<svg xmlns=\"http://www.w3.org/2000/svg\" height=\"24px\"viewBox=\"0 0 24 24\"\n",
              "     width=\"24px\">\n",
              "    <g>\n",
              "        <path d=\"M19 3H5c-1.1 0-2 .9-2 2v14c0 1.1.9 2 2 2h14c1.1 0 2-.9 2-2V5c0-1.1-.9-2-2-2zM9 17H7v-7h2v7zm4 0h-2V7h2v10zm4 0h-2v-4h2v4z\"/>\n",
              "    </g>\n",
              "</svg>\n",
              "      </button>\n",
              "    </div>\n",
              "\n",
              "<style>\n",
              "  .colab-df-quickchart {\n",
              "    background-color: #E8F0FE;\n",
              "    border: none;\n",
              "    border-radius: 50%;\n",
              "    cursor: pointer;\n",
              "    display: none;\n",
              "    fill: #1967D2;\n",
              "    height: 32px;\n",
              "    padding: 0 0 0 0;\n",
              "    width: 32px;\n",
              "  }\n",
              "\n",
              "  .colab-df-quickchart:hover {\n",
              "    background-color: #E2EBFA;\n",
              "    box-shadow: 0px 1px 2px rgba(60, 64, 67, 0.3), 0px 1px 3px 1px rgba(60, 64, 67, 0.15);\n",
              "    fill: #174EA6;\n",
              "  }\n",
              "\n",
              "  [theme=dark] .colab-df-quickchart {\n",
              "    background-color: #3B4455;\n",
              "    fill: #D2E3FC;\n",
              "  }\n",
              "\n",
              "  [theme=dark] .colab-df-quickchart:hover {\n",
              "    background-color: #434B5C;\n",
              "    box-shadow: 0px 1px 3px 1px rgba(0, 0, 0, 0.15);\n",
              "    filter: drop-shadow(0px 1px 2px rgba(0, 0, 0, 0.3));\n",
              "    fill: #FFFFFF;\n",
              "  }\n",
              "</style>\n",
              "\n",
              "    <script>\n",
              "      async function quickchart(key) {\n",
              "        const containerElement = document.querySelector('#' + key);\n",
              "        const charts = await google.colab.kernel.invokeFunction(\n",
              "            'suggestCharts', [key], {});\n",
              "      }\n",
              "    </script>\n",
              "\n",
              "      <script>\n",
              "\n",
              "function displayQuickchartButton(domScope) {\n",
              "  let quickchartButtonEl =\n",
              "    domScope.querySelector('#df-91d5d75e-2d8b-4366-93f6-c8437c666ef6 button.colab-df-quickchart');\n",
              "  quickchartButtonEl.style.display =\n",
              "    google.colab.kernel.accessAllowed ? 'block' : 'none';\n",
              "}\n",
              "\n",
              "        displayQuickchartButton(document);\n",
              "      </script>\n",
              "      <style>\n",
              "    .colab-df-container {\n",
              "      display:flex;\n",
              "      flex-wrap:wrap;\n",
              "      gap: 12px;\n",
              "    }\n",
              "\n",
              "    .colab-df-convert {\n",
              "      background-color: #E8F0FE;\n",
              "      border: none;\n",
              "      border-radius: 50%;\n",
              "      cursor: pointer;\n",
              "      display: none;\n",
              "      fill: #1967D2;\n",
              "      height: 32px;\n",
              "      padding: 0 0 0 0;\n",
              "      width: 32px;\n",
              "    }\n",
              "\n",
              "    .colab-df-convert:hover {\n",
              "      background-color: #E2EBFA;\n",
              "      box-shadow: 0px 1px 2px rgba(60, 64, 67, 0.3), 0px 1px 3px 1px rgba(60, 64, 67, 0.15);\n",
              "      fill: #174EA6;\n",
              "    }\n",
              "\n",
              "    [theme=dark] .colab-df-convert {\n",
              "      background-color: #3B4455;\n",
              "      fill: #D2E3FC;\n",
              "    }\n",
              "\n",
              "    [theme=dark] .colab-df-convert:hover {\n",
              "      background-color: #434B5C;\n",
              "      box-shadow: 0px 1px 3px 1px rgba(0, 0, 0, 0.15);\n",
              "      filter: drop-shadow(0px 1px 2px rgba(0, 0, 0, 0.3));\n",
              "      fill: #FFFFFF;\n",
              "    }\n",
              "  </style>\n",
              "\n",
              "      <script>\n",
              "        const buttonEl =\n",
              "          document.querySelector('#df-38874ea0-0dee-492f-8c00-7b850efa1bcc button.colab-df-convert');\n",
              "        buttonEl.style.display =\n",
              "          google.colab.kernel.accessAllowed ? 'block' : 'none';\n",
              "\n",
              "        async function convertToInteractive(key) {\n",
              "          const element = document.querySelector('#df-38874ea0-0dee-492f-8c00-7b850efa1bcc');\n",
              "          const dataTable =\n",
              "            await google.colab.kernel.invokeFunction('convertToInteractive',\n",
              "                                                     [key], {});\n",
              "          if (!dataTable) return;\n",
              "\n",
              "          const docLinkHtml = 'Like what you see? Visit the ' +\n",
              "            '<a target=\"_blank\" href=https://colab.research.google.com/notebooks/data_table.ipynb>data table notebook</a>'\n",
              "            + ' to learn more about interactive tables.';\n",
              "          element.innerHTML = '';\n",
              "          dataTable['output_type'] = 'display_data';\n",
              "          await google.colab.output.renderOutput(dataTable, element);\n",
              "          const docLink = document.createElement('div');\n",
              "          docLink.innerHTML = docLinkHtml;\n",
              "          element.appendChild(docLink);\n",
              "        }\n",
              "      </script>\n",
              "    </div>\n",
              "  </div>\n"
            ]
          },
          "metadata": {},
          "execution_count": 22
        }
      ]
    },
    {
      "cell_type": "markdown",
      "source": [
        "### **Adding and Modifying Columns:**"
      ],
      "metadata": {
        "id": "BmGgoP5lAtSx"
      }
    },
    {
      "cell_type": "code",
      "source": [
        "# Adding a new column\n",
        "#df['New_Column'] = df['Column1'] + df['Column2']\n",
        "\n",
        "# Modifying an existing column\n",
        "df['Age'] = df['Age'] + 1\n",
        "df"
      ],
      "metadata": {
        "colab": {
          "base_uri": "https://localhost:8080/",
          "height": 175
        },
        "id": "ZePIS9v-_9_H",
        "outputId": "305bcb98-bc00-4c73-887a-22c52956158b"
      },
      "execution_count": null,
      "outputs": [
        {
          "output_type": "execute_result",
          "data": {
            "text/plain": [
              "         Name  Age           City\n",
              "0    John Doe   33       New York\n",
              "1    Jane Doe   28    Los Angeles\n",
              "2  John Smith   43        Chicago\n",
              "3  Jane Smith   38  San Francisco"
            ],
            "text/html": [
              "\n",
              "\n",
              "  <div id=\"df-58d98211-0812-479f-b515-0e2b87aa358c\">\n",
              "    <div class=\"colab-df-container\">\n",
              "      <div>\n",
              "<style scoped>\n",
              "    .dataframe tbody tr th:only-of-type {\n",
              "        vertical-align: middle;\n",
              "    }\n",
              "\n",
              "    .dataframe tbody tr th {\n",
              "        vertical-align: top;\n",
              "    }\n",
              "\n",
              "    .dataframe thead th {\n",
              "        text-align: right;\n",
              "    }\n",
              "</style>\n",
              "<table border=\"1\" class=\"dataframe\">\n",
              "  <thead>\n",
              "    <tr style=\"text-align: right;\">\n",
              "      <th></th>\n",
              "      <th>Name</th>\n",
              "      <th>Age</th>\n",
              "      <th>City</th>\n",
              "    </tr>\n",
              "  </thead>\n",
              "  <tbody>\n",
              "    <tr>\n",
              "      <th>0</th>\n",
              "      <td>John Doe</td>\n",
              "      <td>33</td>\n",
              "      <td>New York</td>\n",
              "    </tr>\n",
              "    <tr>\n",
              "      <th>1</th>\n",
              "      <td>Jane Doe</td>\n",
              "      <td>28</td>\n",
              "      <td>Los Angeles</td>\n",
              "    </tr>\n",
              "    <tr>\n",
              "      <th>2</th>\n",
              "      <td>John Smith</td>\n",
              "      <td>43</td>\n",
              "      <td>Chicago</td>\n",
              "    </tr>\n",
              "    <tr>\n",
              "      <th>3</th>\n",
              "      <td>Jane Smith</td>\n",
              "      <td>38</td>\n",
              "      <td>San Francisco</td>\n",
              "    </tr>\n",
              "  </tbody>\n",
              "</table>\n",
              "</div>\n",
              "      <button class=\"colab-df-convert\" onclick=\"convertToInteractive('df-58d98211-0812-479f-b515-0e2b87aa358c')\"\n",
              "              title=\"Convert this dataframe to an interactive table.\"\n",
              "              style=\"display:none;\">\n",
              "\n",
              "  <svg xmlns=\"http://www.w3.org/2000/svg\" height=\"24px\"viewBox=\"0 0 24 24\"\n",
              "       width=\"24px\">\n",
              "    <path d=\"M0 0h24v24H0V0z\" fill=\"none\"/>\n",
              "    <path d=\"M18.56 5.44l.94 2.06.94-2.06 2.06-.94-2.06-.94-.94-2.06-.94 2.06-2.06.94zm-11 1L8.5 8.5l.94-2.06 2.06-.94-2.06-.94L8.5 2.5l-.94 2.06-2.06.94zm10 10l.94 2.06.94-2.06 2.06-.94-2.06-.94-.94-2.06-.94 2.06-2.06.94z\"/><path d=\"M17.41 7.96l-1.37-1.37c-.4-.4-.92-.59-1.43-.59-.52 0-1.04.2-1.43.59L10.3 9.45l-7.72 7.72c-.78.78-.78 2.05 0 2.83L4 21.41c.39.39.9.59 1.41.59.51 0 1.02-.2 1.41-.59l7.78-7.78 2.81-2.81c.8-.78.8-2.07 0-2.86zM5.41 20L4 18.59l7.72-7.72 1.47 1.35L5.41 20z\"/>\n",
              "  </svg>\n",
              "      </button>\n",
              "\n",
              "\n",
              "\n",
              "    <div id=\"df-a198609f-7695-4ccc-b2de-212f89b5d895\">\n",
              "      <button class=\"colab-df-quickchart\" onclick=\"quickchart('df-a198609f-7695-4ccc-b2de-212f89b5d895')\"\n",
              "              title=\"Suggest charts.\"\n",
              "              style=\"display:none;\">\n",
              "\n",
              "<svg xmlns=\"http://www.w3.org/2000/svg\" height=\"24px\"viewBox=\"0 0 24 24\"\n",
              "     width=\"24px\">\n",
              "    <g>\n",
              "        <path d=\"M19 3H5c-1.1 0-2 .9-2 2v14c0 1.1.9 2 2 2h14c1.1 0 2-.9 2-2V5c0-1.1-.9-2-2-2zM9 17H7v-7h2v7zm4 0h-2V7h2v10zm4 0h-2v-4h2v4z\"/>\n",
              "    </g>\n",
              "</svg>\n",
              "      </button>\n",
              "    </div>\n",
              "\n",
              "<style>\n",
              "  .colab-df-quickchart {\n",
              "    background-color: #E8F0FE;\n",
              "    border: none;\n",
              "    border-radius: 50%;\n",
              "    cursor: pointer;\n",
              "    display: none;\n",
              "    fill: #1967D2;\n",
              "    height: 32px;\n",
              "    padding: 0 0 0 0;\n",
              "    width: 32px;\n",
              "  }\n",
              "\n",
              "  .colab-df-quickchart:hover {\n",
              "    background-color: #E2EBFA;\n",
              "    box-shadow: 0px 1px 2px rgba(60, 64, 67, 0.3), 0px 1px 3px 1px rgba(60, 64, 67, 0.15);\n",
              "    fill: #174EA6;\n",
              "  }\n",
              "\n",
              "  [theme=dark] .colab-df-quickchart {\n",
              "    background-color: #3B4455;\n",
              "    fill: #D2E3FC;\n",
              "  }\n",
              "\n",
              "  [theme=dark] .colab-df-quickchart:hover {\n",
              "    background-color: #434B5C;\n",
              "    box-shadow: 0px 1px 3px 1px rgba(0, 0, 0, 0.15);\n",
              "    filter: drop-shadow(0px 1px 2px rgba(0, 0, 0, 0.3));\n",
              "    fill: #FFFFFF;\n",
              "  }\n",
              "</style>\n",
              "\n",
              "    <script>\n",
              "      async function quickchart(key) {\n",
              "        const containerElement = document.querySelector('#' + key);\n",
              "        const charts = await google.colab.kernel.invokeFunction(\n",
              "            'suggestCharts', [key], {});\n",
              "      }\n",
              "    </script>\n",
              "\n",
              "      <script>\n",
              "\n",
              "function displayQuickchartButton(domScope) {\n",
              "  let quickchartButtonEl =\n",
              "    domScope.querySelector('#df-a198609f-7695-4ccc-b2de-212f89b5d895 button.colab-df-quickchart');\n",
              "  quickchartButtonEl.style.display =\n",
              "    google.colab.kernel.accessAllowed ? 'block' : 'none';\n",
              "}\n",
              "\n",
              "        displayQuickchartButton(document);\n",
              "      </script>\n",
              "      <style>\n",
              "    .colab-df-container {\n",
              "      display:flex;\n",
              "      flex-wrap:wrap;\n",
              "      gap: 12px;\n",
              "    }\n",
              "\n",
              "    .colab-df-convert {\n",
              "      background-color: #E8F0FE;\n",
              "      border: none;\n",
              "      border-radius: 50%;\n",
              "      cursor: pointer;\n",
              "      display: none;\n",
              "      fill: #1967D2;\n",
              "      height: 32px;\n",
              "      padding: 0 0 0 0;\n",
              "      width: 32px;\n",
              "    }\n",
              "\n",
              "    .colab-df-convert:hover {\n",
              "      background-color: #E2EBFA;\n",
              "      box-shadow: 0px 1px 2px rgba(60, 64, 67, 0.3), 0px 1px 3px 1px rgba(60, 64, 67, 0.15);\n",
              "      fill: #174EA6;\n",
              "    }\n",
              "\n",
              "    [theme=dark] .colab-df-convert {\n",
              "      background-color: #3B4455;\n",
              "      fill: #D2E3FC;\n",
              "    }\n",
              "\n",
              "    [theme=dark] .colab-df-convert:hover {\n",
              "      background-color: #434B5C;\n",
              "      box-shadow: 0px 1px 3px 1px rgba(0, 0, 0, 0.15);\n",
              "      filter: drop-shadow(0px 1px 2px rgba(0, 0, 0, 0.3));\n",
              "      fill: #FFFFFF;\n",
              "    }\n",
              "  </style>\n",
              "\n",
              "      <script>\n",
              "        const buttonEl =\n",
              "          document.querySelector('#df-58d98211-0812-479f-b515-0e2b87aa358c button.colab-df-convert');\n",
              "        buttonEl.style.display =\n",
              "          google.colab.kernel.accessAllowed ? 'block' : 'none';\n",
              "\n",
              "        async function convertToInteractive(key) {\n",
              "          const element = document.querySelector('#df-58d98211-0812-479f-b515-0e2b87aa358c');\n",
              "          const dataTable =\n",
              "            await google.colab.kernel.invokeFunction('convertToInteractive',\n",
              "                                                     [key], {});\n",
              "          if (!dataTable) return;\n",
              "\n",
              "          const docLinkHtml = 'Like what you see? Visit the ' +\n",
              "            '<a target=\"_blank\" href=https://colab.research.google.com/notebooks/data_table.ipynb>data table notebook</a>'\n",
              "            + ' to learn more about interactive tables.';\n",
              "          element.innerHTML = '';\n",
              "          dataTable['output_type'] = 'display_data';\n",
              "          await google.colab.output.renderOutput(dataTable, element);\n",
              "          const docLink = document.createElement('div');\n",
              "          docLink.innerHTML = docLinkHtml;\n",
              "          element.appendChild(docLink);\n",
              "        }\n",
              "      </script>\n",
              "    </div>\n",
              "  </div>\n"
            ]
          },
          "metadata": {},
          "execution_count": 26
        }
      ]
    },
    {
      "cell_type": "markdown",
      "source": [
        "### **Grouping and Aggregating Data:**"
      ],
      "metadata": {
        "id": "YoiMaQxkBZ1c"
      }
    },
    {
      "cell_type": "markdown",
      "source": [
        "You can group data based on one or more columns and perform aggregate functions on grouped data."
      ],
      "metadata": {
        "id": "IoQCvQy0CLEx"
      }
    },
    {
      "cell_type": "code",
      "source": [
        "# Grouping data by a column and calculating the mean of another column\n",
        "grouped_data = df.groupby('Category')['Value'].mean()"
      ],
      "metadata": {
        "id": "tkZkh_QQ_-Gj"
      },
      "execution_count": null,
      "outputs": []
    },
    {
      "cell_type": "code",
      "source": [
        "# Grouping and Aggregating Data\n",
        "grouped_data = df.groupby('City')['Salary'].mean()\n",
        "print(\"Grouped and Aggregated Data:\")\n",
        "print(grouped_data)\n",
        "print()"
      ],
      "metadata": {
        "colab": {
          "base_uri": "https://localhost:8080/"
        },
        "id": "keHlDtyGFOE6",
        "outputId": "07a835d4-cad9-4236-a18e-690e23236f56"
      },
      "execution_count": null,
      "outputs": [
        {
          "output_type": "stream",
          "name": "stdout",
          "text": [
            "Grouped and Aggregated Data:\n",
            "City\n",
            "Chicago          55000.0\n",
            "Los Angeles      70000.0\n",
            "New York         50000.0\n",
            "San Francisco    60000.0\n",
            "Name: Salary, dtype: float64\n",
            "\n"
          ]
        }
      ]
    },
    {
      "cell_type": "markdown",
      "source": [
        "### **Sorting data**"
      ],
      "metadata": {
        "id": "G9WqVD7QCZUx"
      }
    },
    {
      "cell_type": "code",
      "source": [
        "# Sorting data by a single column in ascending order\n",
        "sorted_data = df.sort_values(by='Column_Name')\n",
        "\n",
        "# Sorting data by multiple columns with different sorting orders\n",
        "sorted_data = df.sort_values(by=['Column1', 'Column2'], ascending=[True, False])\n"
      ],
      "metadata": {
        "id": "72tTx4axCbJ5"
      },
      "execution_count": null,
      "outputs": []
    },
    {
      "cell_type": "code",
      "source": [
        "# Sorting Data\n",
        "sorted_data = df.sort_values(by='Age', ascending=False)\n",
        "print(\"Sorted Data:\")\n",
        "print(sorted_data)\n",
        "print()                             # here sorteing the data by values"
      ],
      "metadata": {
        "colab": {
          "base_uri": "https://localhost:8080/"
        },
        "id": "e9yrpBc1FZVI",
        "outputId": "5c715ceb-568a-402c-dca8-3a04bb7bae9c"
      },
      "execution_count": null,
      "outputs": [
        {
          "output_type": "stream",
          "name": "stdout",
          "text": [
            "Sorted Data:\n",
            "      Name  Age           City  Salary\n",
            "2  Charlie   35    Los Angeles   70000\n",
            "1      Bob   30  San Francisco   60000\n",
            "3    David   28        Chicago   55000\n",
            "0    Alice   25       New York   50000\n",
            "\n"
          ]
        }
      ]
    },
    {
      "cell_type": "markdown",
      "source": [
        "### **Handling Missing Data:**"
      ],
      "metadata": {
        "id": "Fkg08yIwCk4N"
      }
    },
    {
      "cell_type": "markdown",
      "source": [
        "You can handle missing data by dropping rows or filling in missing values."
      ],
      "metadata": {
        "id": "_mlZ4U3wCs4M"
      }
    },
    {
      "cell_type": "code",
      "source": [
        "# Drop rows with any missing values\n",
        "df_cleaned = df.dropna()\n",
        "\n",
        "# Fill missing values with a specific value\n",
        "df_filled = df.fillna(value=0)"
      ],
      "metadata": {
        "id": "2zLn66U_CpSS"
      },
      "execution_count": null,
      "outputs": []
    },
    {
      "cell_type": "code",
      "source": [
        "df.loc[2, 'Salary'] = None\n",
        "df_filled = df.fillna(value=0)\n",
        "print(\"Filled Missing Data:\")     #here for df.loc[2] filling value by fillna()\n",
        "print(df_filled)\n",
        "print()"
      ],
      "metadata": {
        "colab": {
          "base_uri": "https://localhost:8080/"
        },
        "id": "22pLFNXHGRJE",
        "outputId": "ba0aaae8-b067-4dab-c653-99430d6f148f"
      },
      "execution_count": null,
      "outputs": [
        {
          "output_type": "stream",
          "name": "stdout",
          "text": [
            "Filled Missing Data:\n",
            "      Name  Age           City   Salary\n",
            "0    Alice   25       New York  50000.0\n",
            "1      Bob   30  San Francisco  60000.0\n",
            "2  Charlie   35    Los Angeles      0.0\n",
            "3    David   28        Chicago  55000.0\n",
            "\n"
          ]
        }
      ]
    },
    {
      "cell_type": "markdown",
      "source": [
        "### **Merging and Concatenating DataFrames:**"
      ],
      "metadata": {
        "id": "5cVFK6pbDB2t"
      }
    },
    {
      "cell_type": "code",
      "source": [
        "# Merging DataFrames based on a common column\n",
        "merged_df = pd.merge(df1, df2, on='Common_Column')\n",
        "\n",
        "# Concatenating DataFrames vertically (along rows)\n",
        "concatenated_df = pd.concat([df1, df2])"
      ],
      "metadata": {
        "id": "eSCw19tKDF1W"
      },
      "execution_count": null,
      "outputs": []
    },
    {
      "cell_type": "code",
      "source": [
        "# Merging and Concatenating DataFrames\n",
        "df2 = pd.DataFrame({\n",
        "    'Name': ['Eve', 'Frank'],\n",
        "    'Age': [33, 26],\n",
        "    'City': ['Miami', 'Seattle'],\n",
        "    'Salary': [75000, 58000]\n",
        "})\n",
        "\n",
        "merged_df = pd.merge(df, df2, on='City', how='outer')\n",
        "print(\"Merged DataFrames:\")\n",
        "print(merged_df)\n",
        "print()"
      ],
      "metadata": {
        "colab": {
          "base_uri": "https://localhost:8080/"
        },
        "id": "JSoVCRrZD7R8",
        "outputId": "756c9670-d122-46e9-e89f-2432397f6699"
      },
      "execution_count": null,
      "outputs": [
        {
          "output_type": "stream",
          "name": "stdout",
          "text": [
            "Merged DataFrames:\n",
            "    Name_x  Age_x           City  Salary_x Name_y  Age_y  Salary_y\n",
            "0    Alice   25.0       New York   50000.0    NaN    NaN       NaN\n",
            "1      Bob   30.0  San Francisco   60000.0    NaN    NaN       NaN\n",
            "2  Charlie   35.0    Los Angeles       NaN    NaN    NaN       NaN\n",
            "3    David   28.0        Chicago   55000.0    NaN    NaN       NaN\n",
            "4      NaN    NaN          Miami       NaN    Eve   33.0   75000.0\n",
            "5      NaN    NaN        Seattle       NaN  Frank   26.0   58000.0\n",
            "\n"
          ]
        }
      ]
    },
    {
      "cell_type": "markdown",
      "source": [
        "### **Pivoting and Reshaping DataFrames:**"
      ],
      "metadata": {
        "id": "HweWLsw9DK_9"
      }
    },
    {
      "cell_type": "code",
      "source": [
        "# Pivot the DataFrame to create a new structure\n",
        "pivot_table = df.pivot_table(values='Value', index='Category', columns='Month')\n",
        "\n",
        "# Reshaping the DataFrame using melt\n",
        "melted_df = pd.melt(df, id_vars=['ID', 'Name'], var_name='Variable', value_name='Value')"
      ],
      "metadata": {
        "id": "1zzJOAULDPTm"
      },
      "execution_count": null,
      "outputs": []
    },
    {
      "cell_type": "code",
      "source": [
        "# Pivoting and Reshaping DataFrames\n",
        "pivot_table = df.pivot_table(values='Salary', index='City', columns='Name')\n",
        "print(\"Pivot Table:\")\n",
        "print(pivot_table)\n",
        "print()"
      ],
      "metadata": {
        "id": "IUHJryD_EnSk",
        "colab": {
          "base_uri": "https://localhost:8080/"
        },
        "outputId": "48fbc6f2-ba08-43a3-c3e3-c8ff240a674f"
      },
      "execution_count": null,
      "outputs": [
        {
          "output_type": "stream",
          "name": "stdout",
          "text": [
            "Pivot Table:\n",
            "Name             Alice      Bob    David\n",
            "City                                    \n",
            "Chicago            NaN      NaN  55000.0\n",
            "New York       50000.0      NaN      NaN\n",
            "San Francisco      NaN  60000.0      NaN\n",
            "\n"
          ]
        }
      ]
    },
    {
      "cell_type": "markdown",
      "source": [
        "# **Conclusion**"
      ],
      "metadata": {
        "id": "71j-mV5bEx36"
      }
    },
    {
      "cell_type": "markdown",
      "source": [
        "Pandas is a versatile library that can be used for a variety of data analysis tasks. It is a powerful tool for anyone who needs to work with data in Python.\n",
        "\n",
        "\n",
        "*   Ease of use: Pandas is a relatively easy library to learn and use. It has a well-documented API and a large community of users who can provide help and support.\n",
        "\n",
        "*   Powerful functionality: Pandas provides a wide range of functionality for data analysis. It can be used to load, manipulate, visualize, and analyze data.\n",
        "*   Flexibility: Pandas is a flexible library that can be used for a variety of data analysis tasks. It can be used for both simple and complex data analysis tasks.Also Check the\n",
        "[User_Guide](https://pandas.pydata.org/pandas-docs/stable/user_guide/index.html#guides)\n",
        "       \n",
        "       **Thank you**\n",
        "\n",
        "\n",
        "\n"
      ],
      "metadata": {
        "id": "5GwcZUDgFS0F"
      }
    }
  ]
}